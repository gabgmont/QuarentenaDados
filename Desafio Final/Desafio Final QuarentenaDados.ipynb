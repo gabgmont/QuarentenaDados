{
 "cells": [
  {
   "cell_type": "code",
   "execution_count": 1,
   "metadata": {},
   "outputs": [],
   "source": [
    "import pandas as pd\n",
    "\n",
    "URI_TREINO = \"https://github.com/tgcsantos/quaretenadados/blob/master/DADOS_TREINO.csv?raw=true\"\n",
    "URI_TESTE = \"https://github.com/tgcsantos/quaretenadados/raw/master/DADOS_TESTE.csv\"\n",
    "URI_DESAFIOQT = \"https://github.com/tgcsantos/quaretenadados/raw/master/DESAFIOQT.csv\"\n",
    "\n",
    "dados_treino = pd.read_csv(URI_TREINO)\n",
    "dados_teste = pd.read_csv(URI_TESTE)\n",
    "dados_desafioqt = pd.read_csv(URI_DESAFIOQT)\n",
    "\n",
    "erro_treino = \"Erro ao carregar dados de treino\"\n",
    "erro_teste = \"Erro ao carregar dados de teste\"\n",
    "erro_desafioqt = \"Erro ao carregar dados de submissão\"\n",
    "\n",
    "assert dados_treino.shape == (150000, 5), erro_treino\n",
    "assert dados_teste.shape == (20000, 5), erro_teste\n",
    "assert dados_desafioqt.shape == (10000, 5), erro_desafioqt"
   ]
  },
  {
   "cell_type": "code",
   "execution_count": 2,
   "metadata": {},
   "outputs": [],
   "source": [
    "coluna_label = 'NU_NOTA_LC'\n",
    "coluna_features = ['NU_NOTA_CN', 'NU_NOTA_CH', 'NU_NOTA_MT', 'NU_NOTA_REDACAO']\n",
    "\n",
    "X_treino = dados_treino[coluna_features] #.to_numpy()\n",
    "Y_treino = dados_treino[coluna_label] #.to_numpy()\n",
    "X_teste = dados_teste[coluna_features] #.to_numpy()\n",
    "Y_teste = dados_teste[coluna_label] #.to_numpy()"
   ]
  },
  {
   "cell_type": "code",
   "execution_count": 3,
   "metadata": {},
   "outputs": [
    {
     "name": "stdout",
     "output_type": "stream",
     "text": [
      "Minha avaliação nos dados de teste foi de 5219.286870186777\n"
     ]
    }
   ],
   "source": [
    "#Exemplo de classificação com Dummy\n",
    "from sklearn.dummy import DummyRegressor\n",
    "from sklearn.metrics import mean_squared_error\n",
    "\n",
    "modelo_dummy = DummyRegressor()\n",
    "modelo_dummy.fit(X_treino, Y_treino)\n",
    "dummy_predicoes = modelo_dummy.predict(X_teste)\n",
    "\n",
    "avaliacao_dummy = mean_squared_error(Y_teste, dummy_predicoes)\n",
    "\n",
    "print(f\"Minha avaliação nos dados de teste foi de {avaliacao_dummy}\")"
   ]
  },
  {
   "cell_type": "code",
   "execution_count": 4,
   "metadata": {},
   "outputs": [
    {
     "name": "stderr",
     "output_type": "stream",
     "text": [
      "C:\\Users\\gabgm\\anaconda3\\lib\\site-packages\\sklearn\\svm\\_base.py:947: ConvergenceWarning: Liblinear failed to converge, increase the number of iterations.\n",
      "  \"the number of iterations.\", ConvergenceWarning)\n"
     ]
    },
    {
     "data": {
      "text/plain": [
       "LinearSVR(C=1.0, dual=True, epsilon=0.0, fit_intercept=True,\n",
       "          intercept_scaling=1.0, loss='epsilon_insensitive', max_iter=100000,\n",
       "          random_state=None, tol=0.0001, verbose=0)"
      ]
     },
     "execution_count": 4,
     "metadata": {},
     "output_type": "execute_result"
    }
   ],
   "source": [
    "from sklearn.svm import LinearSVR\n",
    "from sklearn.metrics import mean_squared_error\n",
    "\n",
    "modelo = LinearSVR(max_iter = 100000)\n",
    "modelo.fit(X_treino, Y_treino)"
   ]
  },
  {
   "cell_type": "code",
   "execution_count": 5,
   "metadata": {},
   "outputs": [
    {
     "data": {
      "text/plain": [
       "array([545.6325361 , 460.35184663, 662.36827901, ..., 536.12184664,\n",
       "       563.0509158 , 491.37498149])"
      ]
     },
     "execution_count": 5,
     "metadata": {},
     "output_type": "execute_result"
    }
   ],
   "source": [
    "previsao_LSVR = modelo.predict(X_teste)\n",
    "previsao_LSVR"
   ]
  },
  {
   "cell_type": "code",
   "execution_count": 7,
   "metadata": {},
   "outputs": [
    {
     "data": {
      "text/plain": [
       "2274.392203693615"
      ]
     },
     "execution_count": 7,
     "metadata": {},
     "output_type": "execute_result"
    }
   ],
   "source": [
    "mean_squared_error(Y_teste, previsao_LSVR)"
   ]
  },
  {
   "cell_type": "code",
   "execution_count": null,
   "metadata": {},
   "outputs": [],
   "source": [
    "#from sklearn.tree import DecisionTreeRegressor\n",
    "\n",
    "#modelo = DecisionTreeRegressor(criterion='mae')\n",
    "#modelo.fit(X_treino, Y_treino)\n",
    "\n",
    "#previsao_tree = modelo.predict(X_teste)\n",
    "#previsao_tree"
   ]
  },
  {
   "cell_type": "code",
   "execution_count": null,
   "metadata": {},
   "outputs": [],
   "source": [
    "#mean_squared_error(Y_teste, previsao_tree)"
   ]
  },
  {
   "cell_type": "code",
   "execution_count": 8,
   "metadata": {},
   "outputs": [
    {
     "data": {
      "text/plain": [
       "array([496.1, 583.6, 628.1, ..., 479. , 540.6, 504.3])"
      ]
     },
     "execution_count": 8,
     "metadata": {},
     "output_type": "execute_result"
    }
   ],
   "source": [
    "from sklearn.tree import DecisionTreeRegressor\n",
    "\n",
    "modelo = DecisionTreeRegressor()\n",
    "modelo.fit(X_treino, Y_treino)\n",
    "\n",
    "previsao_tree = modelo.predict(X_teste)\n",
    "previsao_tree"
   ]
  },
  {
   "cell_type": "code",
   "execution_count": 9,
   "metadata": {},
   "outputs": [
    {
     "data": {
      "text/plain": [
       "4224.737678"
      ]
     },
     "execution_count": 9,
     "metadata": {},
     "output_type": "execute_result"
    }
   ],
   "source": [
    "mean_squared_error(Y_teste, previsao_tree)"
   ]
  },
  {
   "cell_type": "code",
   "execution_count": 10,
   "metadata": {},
   "outputs": [
    {
     "data": {
      "text/plain": [
       "SVR(C=1.0, cache_size=200, coef0=0.0, degree=3, epsilon=0.1, gamma='scale',\n",
       "    kernel='rbf', max_iter=-1, shrinking=True, tol=0.001, verbose=False)"
      ]
     },
     "execution_count": 10,
     "metadata": {},
     "output_type": "execute_result"
    }
   ],
   "source": [
    "from sklearn.svm import SVR\n",
    "\n",
    "modelo = SVR()\n",
    "modelo.fit(X_treino, Y_treino)"
   ]
  },
  {
   "cell_type": "code",
   "execution_count": 11,
   "metadata": {},
   "outputs": [
    {
     "data": {
      "text/plain": [
       "array([536.2648346 , 459.80081621, 634.49325503, ..., 526.57234029,\n",
       "       557.78780391, 485.94212609])"
      ]
     },
     "execution_count": 11,
     "metadata": {},
     "output_type": "execute_result"
    }
   ],
   "source": [
    "previsao_SVR = modelo.predict(X_teste)\n",
    "previsao_SVR"
   ]
  },
  {
   "cell_type": "code",
   "execution_count": 12,
   "metadata": {},
   "outputs": [
    {
     "data": {
      "text/plain": [
       "2110.1659855384887"
      ]
     },
     "execution_count": 12,
     "metadata": {},
     "output_type": "execute_result"
    }
   ],
   "source": [
    "mean_squared_error(Y_teste, previsao_SVR)"
   ]
  },
  {
   "cell_type": "code",
   "execution_count": null,
   "metadata": {},
   "outputs": [],
   "source": [
    "from sklearn.kernel_ridge import KernelRidge\n",
    "\n",
    "modelo_krr = KernelRidge(alpha=1.0)\n",
    "modelo_krr.fit(X_treino[0:30000], Y_treino[0:30000])"
   ]
  },
  {
   "cell_type": "code",
   "execution_count": null,
   "metadata": {},
   "outputs": [],
   "source": [
    "from sklearn.metrics import mean_squared_error\n",
    "\n",
    "previsao_krr = modelo_krr.predict(X_teste)\n",
    "mean_squared_error(Y_teste, previsao_krr)"
   ]
  },
  {
   "cell_type": "code",
   "execution_count": null,
   "metadata": {},
   "outputs": [],
   "source": []
  }
 ],
 "metadata": {
  "kernelspec": {
   "display_name": "Python 3",
   "language": "python",
   "name": "python3"
  },
  "language_info": {
   "codemirror_mode": {
    "name": "ipython",
    "version": 3
   },
   "file_extension": ".py",
   "mimetype": "text/x-python",
   "name": "python",
   "nbconvert_exporter": "python",
   "pygments_lexer": "ipython3",
   "version": "3.7.6"
  }
 },
 "nbformat": 4,
 "nbformat_minor": 4
}
