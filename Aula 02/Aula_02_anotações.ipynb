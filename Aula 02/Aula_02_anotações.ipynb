{
  "nbformat": 4,
  "nbformat_minor": 0,
  "metadata": {
    "colab": {
      "name": "Aula 02 - anotações",
      "provenance": [],
      "collapsed_sections": [],
      "toc_visible": true,
      "authorship_tag": "ABX9TyPsG8hleyuohkZ0pLsj+HLp",
      "include_colab_link": true
    },
    "kernelspec": {
      "name": "python3",
      "display_name": "Python 3"
    }
  },
  "cells": [
    {
      "cell_type": "markdown",
      "metadata": {
        "id": "view-in-github",
        "colab_type": "text"
      },
      "source": [
        "<a href=\"https://colab.research.google.com/github/gabgmont/QuarentenaDados/blob/master/Aula%2002/Aula_02_anota%C3%A7%C3%B5es.ipynb\" target=\"_parent\"><img src=\"https://colab.research.google.com/assets/colab-badge.svg\" alt=\"Open In Colab\"/></a>"
      ]
    },
    {
      "cell_type": "markdown",
      "metadata": {
        "id": "2yRarUPY4N_i",
        "colab_type": "text"
      },
      "source": [
        "#**Aula 01** - Introdução\n",
        "\n"
      ]
    },
    {
      "cell_type": "markdown",
      "metadata": {
        "id": "qMq_PKZ5gU0U",
        "colab_type": "text"
      },
      "source": [
        "#Importando a biblioteca pandas para fazer a leitura dos dados."
      ]
    },
    {
      "cell_type": "code",
      "metadata": {
        "id": "khTW7sRxYEmM",
        "colab_type": "code",
        "colab": {}
      },
      "source": [
        "import pandas as pd"
      ],
      "execution_count": 0,
      "outputs": []
    },
    {
      "cell_type": "markdown",
      "metadata": {
        "id": "w9G6pbRUglXV",
        "colab_type": "text"
      },
      "source": [
        "#Lendo o arquivo .csv referente aos filmes listados no dataset e printando os 5 primeiros registros.\n"
      ]
    },
    {
      "cell_type": "code",
      "metadata": {
        "id": "dOYzwbY4aHXi",
        "colab_type": "code",
        "colab": {}
      },
      "source": [
        "filmes = pd.read_csv(\"https://raw.githubusercontent.com/gabgmont/QuarentenaDados/master/Aula%2001/ml-latest-small/movies.csv?token=AN2IIPEO57I6WJIXZC7AF7K6TYLOM\")"
      ],
      "execution_count": 0,
      "outputs": []
    },
    {
      "cell_type": "code",
      "metadata": {
        "id": "4MaUyHfreo1R",
        "colab_type": "code",
        "outputId": "2584d034-18b6-4b9e-fdef-17437853a800",
        "colab": {
          "base_uri": "https://localhost:8080/",
          "height": 491
        }
      },
      "source": [
        "filmes.head(15) #.head traz como padrão os 5 primeiros itens, mas pode ser especificado uma quantidade de elementos a serem exibidos."
      ],
      "execution_count": 383,
      "outputs": [
        {
          "output_type": "execute_result",
          "data": {
            "text/html": [
              "<div>\n",
              "<style scoped>\n",
              "    .dataframe tbody tr th:only-of-type {\n",
              "        vertical-align: middle;\n",
              "    }\n",
              "\n",
              "    .dataframe tbody tr th {\n",
              "        vertical-align: top;\n",
              "    }\n",
              "\n",
              "    .dataframe thead th {\n",
              "        text-align: right;\n",
              "    }\n",
              "</style>\n",
              "<table border=\"1\" class=\"dataframe\">\n",
              "  <thead>\n",
              "    <tr style=\"text-align: right;\">\n",
              "      <th></th>\n",
              "      <th>movieId</th>\n",
              "      <th>title</th>\n",
              "      <th>genres</th>\n",
              "    </tr>\n",
              "  </thead>\n",
              "  <tbody>\n",
              "    <tr>\n",
              "      <th>0</th>\n",
              "      <td>1</td>\n",
              "      <td>Toy Story (1995)</td>\n",
              "      <td>Adventure|Animation|Children|Comedy|Fantasy</td>\n",
              "    </tr>\n",
              "    <tr>\n",
              "      <th>1</th>\n",
              "      <td>2</td>\n",
              "      <td>Jumanji (1995)</td>\n",
              "      <td>Adventure|Children|Fantasy</td>\n",
              "    </tr>\n",
              "    <tr>\n",
              "      <th>2</th>\n",
              "      <td>3</td>\n",
              "      <td>Grumpier Old Men (1995)</td>\n",
              "      <td>Comedy|Romance</td>\n",
              "    </tr>\n",
              "    <tr>\n",
              "      <th>3</th>\n",
              "      <td>4</td>\n",
              "      <td>Waiting to Exhale (1995)</td>\n",
              "      <td>Comedy|Drama|Romance</td>\n",
              "    </tr>\n",
              "    <tr>\n",
              "      <th>4</th>\n",
              "      <td>5</td>\n",
              "      <td>Father of the Bride Part II (1995)</td>\n",
              "      <td>Comedy</td>\n",
              "    </tr>\n",
              "    <tr>\n",
              "      <th>5</th>\n",
              "      <td>6</td>\n",
              "      <td>Heat (1995)</td>\n",
              "      <td>Action|Crime|Thriller</td>\n",
              "    </tr>\n",
              "    <tr>\n",
              "      <th>6</th>\n",
              "      <td>7</td>\n",
              "      <td>Sabrina (1995)</td>\n",
              "      <td>Comedy|Romance</td>\n",
              "    </tr>\n",
              "    <tr>\n",
              "      <th>7</th>\n",
              "      <td>8</td>\n",
              "      <td>Tom and Huck (1995)</td>\n",
              "      <td>Adventure|Children</td>\n",
              "    </tr>\n",
              "    <tr>\n",
              "      <th>8</th>\n",
              "      <td>9</td>\n",
              "      <td>Sudden Death (1995)</td>\n",
              "      <td>Action</td>\n",
              "    </tr>\n",
              "    <tr>\n",
              "      <th>9</th>\n",
              "      <td>10</td>\n",
              "      <td>GoldenEye (1995)</td>\n",
              "      <td>Action|Adventure|Thriller</td>\n",
              "    </tr>\n",
              "    <tr>\n",
              "      <th>10</th>\n",
              "      <td>11</td>\n",
              "      <td>American President, The (1995)</td>\n",
              "      <td>Comedy|Drama|Romance</td>\n",
              "    </tr>\n",
              "    <tr>\n",
              "      <th>11</th>\n",
              "      <td>12</td>\n",
              "      <td>Dracula: Dead and Loving It (1995)</td>\n",
              "      <td>Comedy|Horror</td>\n",
              "    </tr>\n",
              "    <tr>\n",
              "      <th>12</th>\n",
              "      <td>13</td>\n",
              "      <td>Balto (1995)</td>\n",
              "      <td>Adventure|Animation|Children</td>\n",
              "    </tr>\n",
              "    <tr>\n",
              "      <th>13</th>\n",
              "      <td>14</td>\n",
              "      <td>Nixon (1995)</td>\n",
              "      <td>Drama</td>\n",
              "    </tr>\n",
              "    <tr>\n",
              "      <th>14</th>\n",
              "      <td>15</td>\n",
              "      <td>Cutthroat Island (1995)</td>\n",
              "      <td>Action|Adventure|Romance</td>\n",
              "    </tr>\n",
              "  </tbody>\n",
              "</table>\n",
              "</div>"
            ],
            "text/plain": [
              "    movieId  ...                                       genres\n",
              "0         1  ...  Adventure|Animation|Children|Comedy|Fantasy\n",
              "1         2  ...                   Adventure|Children|Fantasy\n",
              "2         3  ...                               Comedy|Romance\n",
              "3         4  ...                         Comedy|Drama|Romance\n",
              "4         5  ...                                       Comedy\n",
              "5         6  ...                        Action|Crime|Thriller\n",
              "6         7  ...                               Comedy|Romance\n",
              "7         8  ...                           Adventure|Children\n",
              "8         9  ...                                       Action\n",
              "9        10  ...                    Action|Adventure|Thriller\n",
              "10       11  ...                         Comedy|Drama|Romance\n",
              "11       12  ...                                Comedy|Horror\n",
              "12       13  ...                 Adventure|Animation|Children\n",
              "13       14  ...                                        Drama\n",
              "14       15  ...                     Action|Adventure|Romance\n",
              "\n",
              "[15 rows x 3 columns]"
            ]
          },
          "metadata": {
            "tags": []
          },
          "execution_count": 383
        }
      ]
    },
    {
      "cell_type": "code",
      "metadata": {
        "id": "2Y5uUYnRoStH",
        "colab_type": "code",
        "colab": {}
      },
      "source": [
        "filmes.columns = [\"id_filme\", \"titulo\", \"generos\"]"
      ],
      "execution_count": 0,
      "outputs": []
    },
    {
      "cell_type": "markdown",
      "metadata": {
        "id": "bt5XFH5ogwwO",
        "colab_type": "text"
      },
      "source": [
        "#Lendo o arquivo .csv referente às avaliações dos usuários, e printando os 5 primeiros registros.\n"
      ]
    },
    {
      "cell_type": "code",
      "metadata": {
        "id": "cv1f69ylfcP-",
        "colab_type": "code",
        "colab": {}
      },
      "source": [
        "avaliacoes = pd.read_csv(\"https://raw.githubusercontent.com/gabgmont/QuarentenaDados/master/Aula%2001/ml-latest-small/ratings.csv?token=AN2IIPEKLK2EILRZNSRQ5FS6TYLKW\")"
      ],
      "execution_count": 0,
      "outputs": []
    },
    {
      "cell_type": "code",
      "metadata": {
        "id": "QxYFORLfiQeh",
        "colab_type": "code",
        "outputId": "84f6f710-9eb6-45f5-da04-f3e272c3c7e3",
        "colab": {
          "base_uri": "https://localhost:8080/",
          "height": 195
        }
      },
      "source": [
        "avaliacoes.head()"
      ],
      "execution_count": 386,
      "outputs": [
        {
          "output_type": "execute_result",
          "data": {
            "text/html": [
              "<div>\n",
              "<style scoped>\n",
              "    .dataframe tbody tr th:only-of-type {\n",
              "        vertical-align: middle;\n",
              "    }\n",
              "\n",
              "    .dataframe tbody tr th {\n",
              "        vertical-align: top;\n",
              "    }\n",
              "\n",
              "    .dataframe thead th {\n",
              "        text-align: right;\n",
              "    }\n",
              "</style>\n",
              "<table border=\"1\" class=\"dataframe\">\n",
              "  <thead>\n",
              "    <tr style=\"text-align: right;\">\n",
              "      <th></th>\n",
              "      <th>userId</th>\n",
              "      <th>movieId</th>\n",
              "      <th>rating</th>\n",
              "      <th>timestamp</th>\n",
              "    </tr>\n",
              "  </thead>\n",
              "  <tbody>\n",
              "    <tr>\n",
              "      <th>0</th>\n",
              "      <td>1</td>\n",
              "      <td>1</td>\n",
              "      <td>4.0</td>\n",
              "      <td>964982703</td>\n",
              "    </tr>\n",
              "    <tr>\n",
              "      <th>1</th>\n",
              "      <td>1</td>\n",
              "      <td>3</td>\n",
              "      <td>4.0</td>\n",
              "      <td>964981247</td>\n",
              "    </tr>\n",
              "    <tr>\n",
              "      <th>2</th>\n",
              "      <td>1</td>\n",
              "      <td>6</td>\n",
              "      <td>4.0</td>\n",
              "      <td>964982224</td>\n",
              "    </tr>\n",
              "    <tr>\n",
              "      <th>3</th>\n",
              "      <td>1</td>\n",
              "      <td>47</td>\n",
              "      <td>5.0</td>\n",
              "      <td>964983815</td>\n",
              "    </tr>\n",
              "    <tr>\n",
              "      <th>4</th>\n",
              "      <td>1</td>\n",
              "      <td>50</td>\n",
              "      <td>5.0</td>\n",
              "      <td>964982931</td>\n",
              "    </tr>\n",
              "  </tbody>\n",
              "</table>\n",
              "</div>"
            ],
            "text/plain": [
              "   userId  movieId  rating  timestamp\n",
              "0       1        1     4.0  964982703\n",
              "1       1        3     4.0  964981247\n",
              "2       1        6     4.0  964982224\n",
              "3       1       47     5.0  964983815\n",
              "4       1       50     5.0  964982931"
            ]
          },
          "metadata": {
            "tags": []
          },
          "execution_count": 386
        }
      ]
    },
    {
      "cell_type": "markdown",
      "metadata": {
        "id": "yTyeF1sOg_kn",
        "colab_type": "text"
      },
      "source": [
        "#Retornando o formato da tabela (100836 linhas, e 4 colunas)."
      ]
    },
    {
      "cell_type": "code",
      "metadata": {
        "id": "RVEB8arhgJPi",
        "colab_type": "code",
        "outputId": "3eee9b59-2e5d-4041-f8c4-77732c5b5e30",
        "colab": {
          "base_uri": "https://localhost:8080/",
          "height": 34
        }
      },
      "source": [
        "avaliacoes.shape"
      ],
      "execution_count": 387,
      "outputs": [
        {
          "output_type": "execute_result",
          "data": {
            "text/plain": [
              "(100836, 4)"
            ]
          },
          "metadata": {
            "tags": []
          },
          "execution_count": 387
        }
      ]
    },
    {
      "cell_type": "markdown",
      "metadata": {
        "id": "TjCp7bYmjBdx",
        "colab_type": "text"
      },
      "source": [
        "#Alterando o nome das colunas."
      ]
    },
    {
      "cell_type": "code",
      "metadata": {
        "id": "_EZdD65tjAcb",
        "colab_type": "code",
        "outputId": "73195f52-77c0-46f5-9cef-a0c6a1fa5d86",
        "colab": {
          "base_uri": "https://localhost:8080/",
          "height": 195
        }
      },
      "source": [
        "avaliacoes.columns = [\"id_usuario\", \"id_filme\", \"nota\", \"momento_avaliacao\"]\n",
        "avaliacoes.head()"
      ],
      "execution_count": 388,
      "outputs": [
        {
          "output_type": "execute_result",
          "data": {
            "text/html": [
              "<div>\n",
              "<style scoped>\n",
              "    .dataframe tbody tr th:only-of-type {\n",
              "        vertical-align: middle;\n",
              "    }\n",
              "\n",
              "    .dataframe tbody tr th {\n",
              "        vertical-align: top;\n",
              "    }\n",
              "\n",
              "    .dataframe thead th {\n",
              "        text-align: right;\n",
              "    }\n",
              "</style>\n",
              "<table border=\"1\" class=\"dataframe\">\n",
              "  <thead>\n",
              "    <tr style=\"text-align: right;\">\n",
              "      <th></th>\n",
              "      <th>id_usuario</th>\n",
              "      <th>id_filme</th>\n",
              "      <th>nota</th>\n",
              "      <th>momento_avaliacao</th>\n",
              "    </tr>\n",
              "  </thead>\n",
              "  <tbody>\n",
              "    <tr>\n",
              "      <th>0</th>\n",
              "      <td>1</td>\n",
              "      <td>1</td>\n",
              "      <td>4.0</td>\n",
              "      <td>964982703</td>\n",
              "    </tr>\n",
              "    <tr>\n",
              "      <th>1</th>\n",
              "      <td>1</td>\n",
              "      <td>3</td>\n",
              "      <td>4.0</td>\n",
              "      <td>964981247</td>\n",
              "    </tr>\n",
              "    <tr>\n",
              "      <th>2</th>\n",
              "      <td>1</td>\n",
              "      <td>6</td>\n",
              "      <td>4.0</td>\n",
              "      <td>964982224</td>\n",
              "    </tr>\n",
              "    <tr>\n",
              "      <th>3</th>\n",
              "      <td>1</td>\n",
              "      <td>47</td>\n",
              "      <td>5.0</td>\n",
              "      <td>964983815</td>\n",
              "    </tr>\n",
              "    <tr>\n",
              "      <th>4</th>\n",
              "      <td>1</td>\n",
              "      <td>50</td>\n",
              "      <td>5.0</td>\n",
              "      <td>964982931</td>\n",
              "    </tr>\n",
              "  </tbody>\n",
              "</table>\n",
              "</div>"
            ],
            "text/plain": [
              "   id_usuario  id_filme  nota  momento_avaliacao\n",
              "0           1         1   4.0          964982703\n",
              "1           1         3   4.0          964981247\n",
              "2           1         6   4.0          964982224\n",
              "3           1        47   5.0          964983815\n",
              "4           1        50   5.0          964982931"
            ]
          },
          "metadata": {
            "tags": []
          },
          "execution_count": 388
        }
      ]
    },
    {
      "cell_type": "markdown",
      "metadata": {
        "id": "c3srAZVjieRL",
        "colab_type": "text"
      },
      "source": [
        "#Buscando as avaliações referentes a um filme específico usando \".query()\"."
      ]
    },
    {
      "cell_type": "code",
      "metadata": {
        "id": "_Opu0-Wqik_I",
        "colab_type": "code",
        "outputId": "61d61e71-d44f-49ec-eea4-c18cd450e48d",
        "colab": {
          "base_uri": "https://localhost:8080/",
          "height": 195
        }
      },
      "source": [
        "avaliacoes_filme2 = avaliacoes.query(\"id_filme == 2\") #buscando todos os dados em que o id do filme é igual a 2.\n",
        "avaliacoes_filme2.head()"
      ],
      "execution_count": 389,
      "outputs": [
        {
          "output_type": "execute_result",
          "data": {
            "text/html": [
              "<div>\n",
              "<style scoped>\n",
              "    .dataframe tbody tr th:only-of-type {\n",
              "        vertical-align: middle;\n",
              "    }\n",
              "\n",
              "    .dataframe tbody tr th {\n",
              "        vertical-align: top;\n",
              "    }\n",
              "\n",
              "    .dataframe thead th {\n",
              "        text-align: right;\n",
              "    }\n",
              "</style>\n",
              "<table border=\"1\" class=\"dataframe\">\n",
              "  <thead>\n",
              "    <tr style=\"text-align: right;\">\n",
              "      <th></th>\n",
              "      <th>id_usuario</th>\n",
              "      <th>id_filme</th>\n",
              "      <th>nota</th>\n",
              "      <th>momento_avaliacao</th>\n",
              "    </tr>\n",
              "  </thead>\n",
              "  <tbody>\n",
              "    <tr>\n",
              "      <th>560</th>\n",
              "      <td>6</td>\n",
              "      <td>2</td>\n",
              "      <td>4.0</td>\n",
              "      <td>845553522</td>\n",
              "    </tr>\n",
              "    <tr>\n",
              "      <th>1026</th>\n",
              "      <td>8</td>\n",
              "      <td>2</td>\n",
              "      <td>4.0</td>\n",
              "      <td>839463806</td>\n",
              "    </tr>\n",
              "    <tr>\n",
              "      <th>1773</th>\n",
              "      <td>18</td>\n",
              "      <td>2</td>\n",
              "      <td>3.0</td>\n",
              "      <td>1455617462</td>\n",
              "    </tr>\n",
              "    <tr>\n",
              "      <th>2275</th>\n",
              "      <td>19</td>\n",
              "      <td>2</td>\n",
              "      <td>3.0</td>\n",
              "      <td>965704331</td>\n",
              "    </tr>\n",
              "    <tr>\n",
              "      <th>2977</th>\n",
              "      <td>20</td>\n",
              "      <td>2</td>\n",
              "      <td>3.0</td>\n",
              "      <td>1054038313</td>\n",
              "    </tr>\n",
              "  </tbody>\n",
              "</table>\n",
              "</div>"
            ],
            "text/plain": [
              "      id_usuario  id_filme  nota  momento_avaliacao\n",
              "560            6         2   4.0          845553522\n",
              "1026           8         2   4.0          839463806\n",
              "1773          18         2   3.0         1455617462\n",
              "2275          19         2   3.0          965704331\n",
              "2977          20         2   3.0         1054038313"
            ]
          },
          "metadata": {
            "tags": []
          },
          "execution_count": 389
        }
      ]
    },
    {
      "cell_type": "markdown",
      "metadata": {
        "id": "Rkj9bokrkh_p",
        "colab_type": "text"
      },
      "source": [
        "Tendo as avaliações de um determinado cojunto, podemos \"descrever\" essas informações, trazendo algumas informações referentes a esses dados usando \".describe()\":"
      ]
    },
    {
      "cell_type": "code",
      "metadata": {
        "id": "AUj0kPzZivZt",
        "colab_type": "code",
        "outputId": "278322cd-9dd4-4d26-8d63-a11d0b8cffb2",
        "colab": {
          "base_uri": "https://localhost:8080/",
          "height": 284
        }
      },
      "source": [
        "avaliacoes_filme2.describe()\n",
        "#soma\n",
        "#media\n",
        "#std\n",
        "#minimo\n",
        "#25%\n",
        "#mediana\n",
        "#75%\n",
        "#max"
      ],
      "execution_count": 390,
      "outputs": [
        {
          "output_type": "execute_result",
          "data": {
            "text/html": [
              "<div>\n",
              "<style scoped>\n",
              "    .dataframe tbody tr th:only-of-type {\n",
              "        vertical-align: middle;\n",
              "    }\n",
              "\n",
              "    .dataframe tbody tr th {\n",
              "        vertical-align: top;\n",
              "    }\n",
              "\n",
              "    .dataframe thead th {\n",
              "        text-align: right;\n",
              "    }\n",
              "</style>\n",
              "<table border=\"1\" class=\"dataframe\">\n",
              "  <thead>\n",
              "    <tr style=\"text-align: right;\">\n",
              "      <th></th>\n",
              "      <th>id_usuario</th>\n",
              "      <th>id_filme</th>\n",
              "      <th>nota</th>\n",
              "      <th>momento_avaliacao</th>\n",
              "    </tr>\n",
              "  </thead>\n",
              "  <tbody>\n",
              "    <tr>\n",
              "      <th>count</th>\n",
              "      <td>110.000000</td>\n",
              "      <td>110.0</td>\n",
              "      <td>110.000000</td>\n",
              "      <td>1.100000e+02</td>\n",
              "    </tr>\n",
              "    <tr>\n",
              "      <th>mean</th>\n",
              "      <td>329.554545</td>\n",
              "      <td>2.0</td>\n",
              "      <td>3.431818</td>\n",
              "      <td>1.135805e+09</td>\n",
              "    </tr>\n",
              "    <tr>\n",
              "      <th>std</th>\n",
              "      <td>180.668513</td>\n",
              "      <td>0.0</td>\n",
              "      <td>0.881713</td>\n",
              "      <td>2.362198e+08</td>\n",
              "    </tr>\n",
              "    <tr>\n",
              "      <th>min</th>\n",
              "      <td>6.000000</td>\n",
              "      <td>2.0</td>\n",
              "      <td>0.500000</td>\n",
              "      <td>8.293223e+08</td>\n",
              "    </tr>\n",
              "    <tr>\n",
              "      <th>25%</th>\n",
              "      <td>171.000000</td>\n",
              "      <td>2.0</td>\n",
              "      <td>3.000000</td>\n",
              "      <td>8.939017e+08</td>\n",
              "    </tr>\n",
              "    <tr>\n",
              "      <th>50%</th>\n",
              "      <td>322.500000</td>\n",
              "      <td>2.0</td>\n",
              "      <td>3.500000</td>\n",
              "      <td>1.113762e+09</td>\n",
              "    </tr>\n",
              "    <tr>\n",
              "      <th>75%</th>\n",
              "      <td>481.500000</td>\n",
              "      <td>2.0</td>\n",
              "      <td>4.000000</td>\n",
              "      <td>1.347033e+09</td>\n",
              "    </tr>\n",
              "    <tr>\n",
              "      <th>max</th>\n",
              "      <td>608.000000</td>\n",
              "      <td>2.0</td>\n",
              "      <td>5.000000</td>\n",
              "      <td>1.529902e+09</td>\n",
              "    </tr>\n",
              "  </tbody>\n",
              "</table>\n",
              "</div>"
            ],
            "text/plain": [
              "       id_usuario  id_filme        nota  momento_avaliacao\n",
              "count  110.000000     110.0  110.000000       1.100000e+02\n",
              "mean   329.554545       2.0    3.431818       1.135805e+09\n",
              "std    180.668513       0.0    0.881713       2.362198e+08\n",
              "min      6.000000       2.0    0.500000       8.293223e+08\n",
              "25%    171.000000       2.0    3.000000       8.939017e+08\n",
              "50%    322.500000       2.0    3.500000       1.113762e+09\n",
              "75%    481.500000       2.0    4.000000       1.347033e+09\n",
              "max    608.000000       2.0    5.000000       1.529902e+09"
            ]
          },
          "metadata": {
            "tags": []
          },
          "execution_count": 390
        }
      ]
    },
    {
      "cell_type": "markdown",
      "metadata": {
        "id": "U2BCSYOelNrn",
        "colab_type": "text"
      },
      "source": [
        "Também é possível buscar somente uma estatística específica que estamos buscando, como por exemplo a média."
      ]
    },
    {
      "cell_type": "code",
      "metadata": {
        "id": "PA7sTTX6kxbj",
        "colab_type": "code",
        "outputId": "203f6178-9aa0-4878-9d67-26c56c50d455",
        "colab": {
          "base_uri": "https://localhost:8080/",
          "height": 101
        }
      },
      "source": [
        "avaliacoes_filme2.mean()\n",
        "#avaliacoes_filme2.std()"
      ],
      "execution_count": 391,
      "outputs": [
        {
          "output_type": "execute_result",
          "data": {
            "text/plain": [
              "id_usuario           3.295545e+02\n",
              "id_filme             2.000000e+00\n",
              "nota                 3.431818e+00\n",
              "momento_avaliacao    1.135805e+09\n",
              "dtype: float64"
            ]
          },
          "metadata": {
            "tags": []
          },
          "execution_count": 391
        }
      ]
    },
    {
      "cell_type": "markdown",
      "metadata": {
        "id": "rU6lCA0rl_M_",
        "colab_type": "text"
      },
      "source": [
        "#Calculando apenas a média da nota de cada filme\n",
        "Buscando apenas a coluna de notas da tabela de avaliações (mantendo o index de cada nota):"
      ]
    },
    {
      "cell_type": "code",
      "metadata": {
        "id": "ziVSCjPUmQLL",
        "colab_type": "code",
        "outputId": "2aa8e142-35f1-4df4-fe23-821b06e88c93",
        "colab": {
          "base_uri": "https://localhost:8080/",
          "height": 218
        }
      },
      "source": [
        "avaliacoes[\"nota\"]"
      ],
      "execution_count": 392,
      "outputs": [
        {
          "output_type": "execute_result",
          "data": {
            "text/plain": [
              "0         4.0\n",
              "1         4.0\n",
              "2         4.0\n",
              "3         5.0\n",
              "4         5.0\n",
              "         ... \n",
              "100831    4.0\n",
              "100832    5.0\n",
              "100833    5.0\n",
              "100834    5.0\n",
              "100835    3.0\n",
              "Name: nota, Length: 100836, dtype: float64"
            ]
          },
          "metadata": {
            "tags": []
          },
          "execution_count": 392
        }
      ]
    },
    {
      "cell_type": "markdown",
      "metadata": {
        "id": "VNVsn8MSmcsI",
        "colab_type": "text"
      },
      "source": [
        "Agora extraindo a média entre todas as notas:"
      ]
    },
    {
      "cell_type": "code",
      "metadata": {
        "id": "I74a_1PrmEQP",
        "colab_type": "code",
        "outputId": "56bc04e5-829a-490c-9507-3cb470f977d2",
        "colab": {
          "base_uri": "https://localhost:8080/",
          "height": 34
        }
      },
      "source": [
        "avaliacoes[\"nota\"].mean()"
      ],
      "execution_count": 393,
      "outputs": [
        {
          "output_type": "execute_result",
          "data": {
            "text/plain": [
              "3.501556983616962"
            ]
          },
          "metadata": {
            "tags": []
          },
          "execution_count": 393
        }
      ]
    },
    {
      "cell_type": "markdown",
      "metadata": {
        "id": "fkb-JRLym3QS",
        "colab_type": "text"
      },
      "source": [
        "Esta é a média entre todos os filmes. Para buscar a média por filme é preciso agrupa-los usando algum dos indicadores, no caso \"id_filme\", usando o método \"groupby()\", e passando como parâmetro o índice que será usado para agrupar os elementos."
      ]
    },
    {
      "cell_type": "code",
      "metadata": {
        "id": "By0Odqevm5w6",
        "colab_type": "code",
        "outputId": "a7e7f221-ba4b-45b0-8ec1-2d8a77f40529",
        "colab": {
          "base_uri": "https://localhost:8080/",
          "height": 134
        }
      },
      "source": [
        "media_por_filme = avaliacoes.groupby(\"id_filme\")[\"nota\"].mean()\n",
        "media_por_filme.head()"
      ],
      "execution_count": 394,
      "outputs": [
        {
          "output_type": "execute_result",
          "data": {
            "text/plain": [
              "id_filme\n",
              "1    3.920930\n",
              "2    3.431818\n",
              "3    3.259615\n",
              "4    2.357143\n",
              "5    3.071429\n",
              "Name: nota, dtype: float64"
            ]
          },
          "metadata": {
            "tags": []
          },
          "execution_count": 394
        }
      ]
    },
    {
      "cell_type": "markdown",
      "metadata": {
        "id": "UIuHk_vanv1l",
        "colab_type": "text"
      },
      "source": [
        "#Agora será necessário unir o nome dos filmes com a média de cada um.\n",
        "Para fazer isso é preciso unir os dois dataframes, o de filmes, e o de medias por filme, o que pode ser feito criando um novo dataframe, e usanod o comando \".join()\" para unir os filmes com as médias."
      ]
    },
    {
      "cell_type": "code",
      "metadata": {
        "id": "jpFRqiBxoMCb",
        "colab_type": "code",
        "outputId": "9aa53a93-f3e8-4bb6-fd9b-86e03b83eb50",
        "colab": {
          "base_uri": "https://localhost:8080/",
          "height": 195
        }
      },
      "source": [
        "filmes.head()"
      ],
      "execution_count": 395,
      "outputs": [
        {
          "output_type": "execute_result",
          "data": {
            "text/html": [
              "<div>\n",
              "<style scoped>\n",
              "    .dataframe tbody tr th:only-of-type {\n",
              "        vertical-align: middle;\n",
              "    }\n",
              "\n",
              "    .dataframe tbody tr th {\n",
              "        vertical-align: top;\n",
              "    }\n",
              "\n",
              "    .dataframe thead th {\n",
              "        text-align: right;\n",
              "    }\n",
              "</style>\n",
              "<table border=\"1\" class=\"dataframe\">\n",
              "  <thead>\n",
              "    <tr style=\"text-align: right;\">\n",
              "      <th></th>\n",
              "      <th>id_filme</th>\n",
              "      <th>titulo</th>\n",
              "      <th>generos</th>\n",
              "    </tr>\n",
              "  </thead>\n",
              "  <tbody>\n",
              "    <tr>\n",
              "      <th>0</th>\n",
              "      <td>1</td>\n",
              "      <td>Toy Story (1995)</td>\n",
              "      <td>Adventure|Animation|Children|Comedy|Fantasy</td>\n",
              "    </tr>\n",
              "    <tr>\n",
              "      <th>1</th>\n",
              "      <td>2</td>\n",
              "      <td>Jumanji (1995)</td>\n",
              "      <td>Adventure|Children|Fantasy</td>\n",
              "    </tr>\n",
              "    <tr>\n",
              "      <th>2</th>\n",
              "      <td>3</td>\n",
              "      <td>Grumpier Old Men (1995)</td>\n",
              "      <td>Comedy|Romance</td>\n",
              "    </tr>\n",
              "    <tr>\n",
              "      <th>3</th>\n",
              "      <td>4</td>\n",
              "      <td>Waiting to Exhale (1995)</td>\n",
              "      <td>Comedy|Drama|Romance</td>\n",
              "    </tr>\n",
              "    <tr>\n",
              "      <th>4</th>\n",
              "      <td>5</td>\n",
              "      <td>Father of the Bride Part II (1995)</td>\n",
              "      <td>Comedy</td>\n",
              "    </tr>\n",
              "  </tbody>\n",
              "</table>\n",
              "</div>"
            ],
            "text/plain": [
              "   id_filme  ...                                      generos\n",
              "0         1  ...  Adventure|Animation|Children|Comedy|Fantasy\n",
              "1         2  ...                   Adventure|Children|Fantasy\n",
              "2         3  ...                               Comedy|Romance\n",
              "3         4  ...                         Comedy|Drama|Romance\n",
              "4         5  ...                                       Comedy\n",
              "\n",
              "[5 rows x 3 columns]"
            ]
          },
          "metadata": {
            "tags": []
          },
          "execution_count": 395
        }
      ]
    },
    {
      "cell_type": "code",
      "metadata": {
        "id": "sEB15NKeofgO",
        "colab_type": "code",
        "outputId": "44a335f2-915c-443a-c1a6-b16c711527a5",
        "colab": {
          "base_uri": "https://localhost:8080/",
          "height": 134
        }
      },
      "source": [
        "media_por_filme.head()"
      ],
      "execution_count": 396,
      "outputs": [
        {
          "output_type": "execute_result",
          "data": {
            "text/plain": [
              "id_filme\n",
              "1    3.920930\n",
              "2    3.431818\n",
              "3    3.259615\n",
              "4    2.357143\n",
              "5    3.071429\n",
              "Name: nota, dtype: float64"
            ]
          },
          "metadata": {
            "tags": []
          },
          "execution_count": 396
        }
      ]
    },
    {
      "cell_type": "code",
      "metadata": {
        "id": "UIAcOj_goi5S",
        "colab_type": "code",
        "outputId": "5fe28260-b6e8-4db9-d909-373aec2a4b32",
        "colab": {
          "base_uri": "https://localhost:8080/",
          "height": 195
        }
      },
      "source": [
        "filme_com_media = filmes.join(media_por_filme, on = \"id_filme\")\n",
        "filme_com_media.head()"
      ],
      "execution_count": 397,
      "outputs": [
        {
          "output_type": "execute_result",
          "data": {
            "text/html": [
              "<div>\n",
              "<style scoped>\n",
              "    .dataframe tbody tr th:only-of-type {\n",
              "        vertical-align: middle;\n",
              "    }\n",
              "\n",
              "    .dataframe tbody tr th {\n",
              "        vertical-align: top;\n",
              "    }\n",
              "\n",
              "    .dataframe thead th {\n",
              "        text-align: right;\n",
              "    }\n",
              "</style>\n",
              "<table border=\"1\" class=\"dataframe\">\n",
              "  <thead>\n",
              "    <tr style=\"text-align: right;\">\n",
              "      <th></th>\n",
              "      <th>id_filme</th>\n",
              "      <th>titulo</th>\n",
              "      <th>generos</th>\n",
              "      <th>nota</th>\n",
              "    </tr>\n",
              "  </thead>\n",
              "  <tbody>\n",
              "    <tr>\n",
              "      <th>0</th>\n",
              "      <td>1</td>\n",
              "      <td>Toy Story (1995)</td>\n",
              "      <td>Adventure|Animation|Children|Comedy|Fantasy</td>\n",
              "      <td>3.920930</td>\n",
              "    </tr>\n",
              "    <tr>\n",
              "      <th>1</th>\n",
              "      <td>2</td>\n",
              "      <td>Jumanji (1995)</td>\n",
              "      <td>Adventure|Children|Fantasy</td>\n",
              "      <td>3.431818</td>\n",
              "    </tr>\n",
              "    <tr>\n",
              "      <th>2</th>\n",
              "      <td>3</td>\n",
              "      <td>Grumpier Old Men (1995)</td>\n",
              "      <td>Comedy|Romance</td>\n",
              "      <td>3.259615</td>\n",
              "    </tr>\n",
              "    <tr>\n",
              "      <th>3</th>\n",
              "      <td>4</td>\n",
              "      <td>Waiting to Exhale (1995)</td>\n",
              "      <td>Comedy|Drama|Romance</td>\n",
              "      <td>2.357143</td>\n",
              "    </tr>\n",
              "    <tr>\n",
              "      <th>4</th>\n",
              "      <td>5</td>\n",
              "      <td>Father of the Bride Part II (1995)</td>\n",
              "      <td>Comedy</td>\n",
              "      <td>3.071429</td>\n",
              "    </tr>\n",
              "  </tbody>\n",
              "</table>\n",
              "</div>"
            ],
            "text/plain": [
              "   id_filme  ...      nota\n",
              "0         1  ...  3.920930\n",
              "1         2  ...  3.431818\n",
              "2         3  ...  3.259615\n",
              "3         4  ...  2.357143\n",
              "4         5  ...  3.071429\n",
              "\n",
              "[5 rows x 4 columns]"
            ]
          },
          "metadata": {
            "tags": []
          },
          "execution_count": 397
        }
      ]
    },
    {
      "cell_type": "markdown",
      "metadata": {
        "id": "QNW9gqm8o-Tt",
        "colab_type": "text"
      },
      "source": [
        "Após juntar as tabelas, é possível ordena-las usando qualquer um dos índices pelo método \"sort_values\". No momento ela está ordenada pelo ID do filme, mas podemos ordena-la pela média para vermos quais os filmes com a maior média."
      ]
    },
    {
      "cell_type": "code",
      "metadata": {
        "id": "FmWTtVLboyAh",
        "colab_type": "code",
        "outputId": "0952a38a-bc32-4cea-e378-07d74c78544a",
        "colab": {
          "base_uri": "https://localhost:8080/",
          "height": 343
        }
      },
      "source": [
        "filme_com_media.sort_values(\"nota\", ascending = False).head(10)"
      ],
      "execution_count": 398,
      "outputs": [
        {
          "output_type": "execute_result",
          "data": {
            "text/html": [
              "<div>\n",
              "<style scoped>\n",
              "    .dataframe tbody tr th:only-of-type {\n",
              "        vertical-align: middle;\n",
              "    }\n",
              "\n",
              "    .dataframe tbody tr th {\n",
              "        vertical-align: top;\n",
              "    }\n",
              "\n",
              "    .dataframe thead th {\n",
              "        text-align: right;\n",
              "    }\n",
              "</style>\n",
              "<table border=\"1\" class=\"dataframe\">\n",
              "  <thead>\n",
              "    <tr style=\"text-align: right;\">\n",
              "      <th></th>\n",
              "      <th>id_filme</th>\n",
              "      <th>titulo</th>\n",
              "      <th>generos</th>\n",
              "      <th>nota</th>\n",
              "    </tr>\n",
              "  </thead>\n",
              "  <tbody>\n",
              "    <tr>\n",
              "      <th>7656</th>\n",
              "      <td>88448</td>\n",
              "      <td>Paper Birds (Pájaros de papel) (2010)</td>\n",
              "      <td>Comedy|Drama</td>\n",
              "      <td>5.0</td>\n",
              "    </tr>\n",
              "    <tr>\n",
              "      <th>8107</th>\n",
              "      <td>100556</td>\n",
              "      <td>Act of Killing, The (2012)</td>\n",
              "      <td>Documentary</td>\n",
              "      <td>5.0</td>\n",
              "    </tr>\n",
              "    <tr>\n",
              "      <th>9083</th>\n",
              "      <td>143031</td>\n",
              "      <td>Jump In! (2007)</td>\n",
              "      <td>Comedy|Drama|Romance</td>\n",
              "      <td>5.0</td>\n",
              "    </tr>\n",
              "    <tr>\n",
              "      <th>9094</th>\n",
              "      <td>143511</td>\n",
              "      <td>Human (2015)</td>\n",
              "      <td>Documentary</td>\n",
              "      <td>5.0</td>\n",
              "    </tr>\n",
              "    <tr>\n",
              "      <th>9096</th>\n",
              "      <td>143559</td>\n",
              "      <td>L.A. Slasher (2015)</td>\n",
              "      <td>Comedy|Crime|Fantasy</td>\n",
              "      <td>5.0</td>\n",
              "    </tr>\n",
              "    <tr>\n",
              "      <th>4251</th>\n",
              "      <td>6201</td>\n",
              "      <td>Lady Jane (1986)</td>\n",
              "      <td>Drama|Romance</td>\n",
              "      <td>5.0</td>\n",
              "    </tr>\n",
              "    <tr>\n",
              "      <th>8154</th>\n",
              "      <td>102217</td>\n",
              "      <td>Bill Hicks: Revelations (1993)</td>\n",
              "      <td>Comedy</td>\n",
              "      <td>5.0</td>\n",
              "    </tr>\n",
              "    <tr>\n",
              "      <th>8148</th>\n",
              "      <td>102084</td>\n",
              "      <td>Justice League: Doom (2012)</td>\n",
              "      <td>Action|Animation|Fantasy</td>\n",
              "      <td>5.0</td>\n",
              "    </tr>\n",
              "    <tr>\n",
              "      <th>4246</th>\n",
              "      <td>6192</td>\n",
              "      <td>Open Hearts (Elsker dig for evigt) (2002)</td>\n",
              "      <td>Romance</td>\n",
              "      <td>5.0</td>\n",
              "    </tr>\n",
              "    <tr>\n",
              "      <th>9122</th>\n",
              "      <td>145994</td>\n",
              "      <td>Formula of Love (1984)</td>\n",
              "      <td>Comedy</td>\n",
              "      <td>5.0</td>\n",
              "    </tr>\n",
              "  </tbody>\n",
              "</table>\n",
              "</div>"
            ],
            "text/plain": [
              "      id_filme  ... nota\n",
              "7656     88448  ...  5.0\n",
              "8107    100556  ...  5.0\n",
              "9083    143031  ...  5.0\n",
              "9094    143511  ...  5.0\n",
              "9096    143559  ...  5.0\n",
              "4251      6201  ...  5.0\n",
              "8154    102217  ...  5.0\n",
              "8148    102084  ...  5.0\n",
              "4246      6192  ...  5.0\n",
              "9122    145994  ...  5.0\n",
              "\n",
              "[10 rows x 4 columns]"
            ]
          },
          "metadata": {
            "tags": []
          },
          "execution_count": 398
        }
      ]
    },
    {
      "cell_type": "markdown",
      "metadata": {
        "id": "qBYt35G2qFjP",
        "colab_type": "text"
      },
      "source": [
        "#Podemos também gerar gráficos com essas informações para visualizar de uma maneira geral a distribuição das notas por exemplo.\n",
        "O prórpio pandas possui uma maneira de exibir um gráfico pelo método \".plot()\", assim não é necessário importar nenhuma biblioteca para visualizar o grafico, apenas para edita-lo e deixa-lo mais bonito."
      ]
    },
    {
      "cell_type": "code",
      "metadata": {
        "id": "W3Qy6QDVqs2e",
        "colab_type": "code",
        "outputId": "3761791e-330b-48c5-9300-23dd87e7882e",
        "colab": {
          "base_uri": "https://localhost:8080/",
          "height": 282
        }
      },
      "source": [
        "avaliacoes.query(\"id_filme == 2\")[\"nota\"].plot() #separando todas as notas em que o id do fimle é 2 e plotando no gráfico."
      ],
      "execution_count": 399,
      "outputs": [
        {
          "output_type": "execute_result",
          "data": {
            "text/plain": [
              "<matplotlib.axes._subplots.AxesSubplot at 0x7f6fd61afeb8>"
            ]
          },
          "metadata": {
            "tags": []
          },
          "execution_count": 399
        },
        {
          "output_type": "display_data",
          "data": {
            "image/png": "[encoded data removed]",
            "text/plain": [
              "<Figure size 432x288 with 1 Axes>"
            ]
          },
          "metadata": {
            "tags": []
          }
        }
      ]
    },
    {
      "cell_type": "markdown",
      "metadata": {
        "id": "c7FAB8ALr4I6",
        "colab_type": "text"
      },
      "source": [
        "Como o gráfico de linhas não é o ideal para esse tipo de dado, seria mais interessante saber quantas notas X temos, e não como as notas variam em função do id do usuário. \n",
        "Portanto podemos alterar o estilo do gráfico adicionando o parâmetro \"kind\" no método \".plot()\".\n"
      ]
    },
    {
      "cell_type": "code",
      "metadata": {
        "id": "Oog3-ejXq9qQ",
        "colab_type": "code",
        "outputId": "9bf23f05-0a28-40e2-a29d-21a77b545934",
        "colab": {
          "base_uri": "https://localhost:8080/",
          "height": 282
        }
      },
      "source": [
        "avaliacoes.query(\"id_filme == 2\")[\"nota\"].plot(kind = 'hist') # mudando o gráfico de linhas padrão para um histográfico."
      ],
      "execution_count": 400,
      "outputs": [
        {
          "output_type": "execute_result",
          "data": {
            "text/plain": [
              "<matplotlib.axes._subplots.AxesSubplot at 0x7f6fd610d908>"
            ]
          },
          "metadata": {
            "tags": []
          },
          "execution_count": 400
        },
        {
          "output_type": "display_data",
          "data": {
            "image/png": "[encoded data removed]",
            "text/plain": [
              "<Figure size 432x288 with 1 Axes>"
            ]
          },
          "metadata": {
            "tags": []
          }
        }
      ]
    },
    {
      "cell_type": "markdown",
      "metadata": {
        "id": "OiywOeJhs-RH",
        "colab_type": "text"
      },
      "source": [
        "Também é possível adicionar um título ao gráfico colocando o parâmetro \"title\" no método \".plot()\"."
      ]
    },
    {
      "cell_type": "code",
      "metadata": {
        "id": "0o8x5RI1sZjE",
        "colab_type": "code",
        "outputId": "eddf77d0-2e04-4935-e438-543bd074749d",
        "colab": {
          "base_uri": "https://localhost:8080/",
          "height": 281
        }
      },
      "source": [
        "jumanji_graf = avaliacoes.query(\"id_filme == 2\")[\"nota\"].plot(kind = 'hist', title = 'Avaliações do filme Jumanji')"
      ],
      "execution_count": 401,
      "outputs": [
        {
          "output_type": "display_data",
          "data": {
            "image/png": "[encoded data removed]",
            "text/plain": [
              "<Figure size 432x288 with 1 Axes>"
            ]
          },
          "metadata": {
            "tags": []
          }
        }
      ]
    },
    {
      "cell_type": "markdown",
      "metadata": {
        "id": "dHwvDdrbtU4Z",
        "colab_type": "text"
      },
      "source": [
        "#Para podermos manipular melhor os gráficos, existe uma biblioteca chamada matplotlib.\n",
        "Ela permite fazer alterações mais complexas do que apenas a biblioteca pandas permite."
      ]
    },
    {
      "cell_type": "code",
      "metadata": {
        "id": "cCp28ghpt4gL",
        "colab_type": "code",
        "outputId": "911b5ce1-e3b4-4597-f8e3-c80f2246d77c",
        "colab": {
          "base_uri": "https://localhost:8080/",
          "height": 281
        }
      },
      "source": [
        "import matplotlib.pyplot as plt\n",
        "\n",
        "avaliacoes.query(\"id_filme == 1\")[\"nota\"].plot(kind = 'hist')\n",
        "plt.title(\"Avaliações do filme Toy Story\")\n",
        "plt.show()"
      ],
      "execution_count": 402,
      "outputs": [
        {
          "output_type": "display_data",
          "data": {
            "image/png": "[encoded data removed]",
            "text/plain": [
              "<Figure size 432x288 with 1 Axes>"
            ]
          },
          "metadata": {
            "tags": []
          }
        }
      ]
    },
    {
      "cell_type": "code",
      "metadata": {
        "id": "jU3DH0JftzPs",
        "colab_type": "code",
        "outputId": "e822d2f2-6587-4806-b42f-baa0db504e9a",
        "colab": {
          "base_uri": "https://localhost:8080/",
          "height": 298
        }
      },
      "source": [
        "avaliacoes.query(\"id_filme == 3\")[\"nota\"].plot(kind = 'hist', title = \"Grumpier Old Man\")"
      ],
      "execution_count": 403,
      "outputs": [
        {
          "output_type": "execute_result",
          "data": {
            "text/plain": [
              "<matplotlib.axes._subplots.AxesSubplot at 0x7f6fd3e2a198>"
            ]
          },
          "metadata": {
            "tags": []
          },
          "execution_count": 403
        },
        {
          "output_type": "display_data",
          "data": {
            "image/png": "[encoded data removed]",
            "text/plain": [
              "<Figure size 432x288 with 1 Axes>"
            ]
          },
          "metadata": {
            "tags": []
          }
        }
      ]
    },
    {
      "cell_type": "code",
      "metadata": {
        "id": "cUv1_s1Xuwwq",
        "colab_type": "code",
        "outputId": "009f09e1-d33a-4961-f59e-38b75d9c8a8e",
        "colab": {
          "base_uri": "https://localhost:8080/",
          "height": 298
        }
      },
      "source": [
        "avaliacoes.query(\"id_filme == 143511\")[\"nota\"].plot(kind = 'hist', title = \"Human\")"
      ],
      "execution_count": 404,
      "outputs": [
        {
          "output_type": "execute_result",
          "data": {
            "text/plain": [
              "<matplotlib.axes._subplots.AxesSubplot at 0x7f6fd3c81c88>"
            ]
          },
          "metadata": {
            "tags": []
          },
          "execution_count": 404
        },
        {
          "output_type": "display_data",
          "data": {
            "image/png": "[encoded data removed]",
            "text/plain": [
              "<Figure size 432x288 with 1 Axes>"
            ]
          },
          "metadata": {
            "tags": []
          }
        }
      ]
    },
    {
      "cell_type": "markdown",
      "metadata": {
        "id": "igKW5gw1wP0J",
        "colab_type": "text"
      },
      "source": [
        "##Desafios da Aula 01\n",
        "Desafio 1: Determine quantos filmes não tem avaliações e quais são esses filmes."
      ]
    },
    {
      "cell_type": "code",
      "metadata": {
        "id": "d-FWgMtHvN04",
        "colab_type": "code",
        "outputId": "e2e83c27-b1ce-429f-98da-b8ebbececfd4",
        "colab": {
          "base_uri": "https://localhost:8080/",
          "height": 67
        }
      },
      "source": [
        "filme_com_media[\"nota\"].isnull().value_counts()"
      ],
      "execution_count": 405,
      "outputs": [
        {
          "output_type": "execute_result",
          "data": {
            "text/plain": [
              "False    9724\n",
              "True       18\n",
              "Name: nota, dtype: int64"
            ]
          },
          "metadata": {
            "tags": []
          },
          "execution_count": 405
        }
      ]
    },
    {
      "cell_type": "code",
      "metadata": {
        "id": "eJBRY_BYw2_-",
        "colab_type": "code",
        "colab": {
          "base_uri": "https://localhost:8080/",
          "height": 580
        },
        "outputId": "fbec2306-45b4-4bcf-f534-066b5c1fb7bd"
      },
      "source": [
        "filme_sem_media = filme_com_media['nota'].isnull()\n",
        "filme_com_media[filme_sem_media]"
      ],
      "execution_count": 406,
      "outputs": [
        {
          "output_type": "execute_result",
          "data": {
            "text/html": [
              "<div>\n",
              "<style scoped>\n",
              "    .dataframe tbody tr th:only-of-type {\n",
              "        vertical-align: middle;\n",
              "    }\n",
              "\n",
              "    .dataframe tbody tr th {\n",
              "        vertical-align: top;\n",
              "    }\n",
              "\n",
              "    .dataframe thead th {\n",
              "        text-align: right;\n",
              "    }\n",
              "</style>\n",
              "<table border=\"1\" class=\"dataframe\">\n",
              "  <thead>\n",
              "    <tr style=\"text-align: right;\">\n",
              "      <th></th>\n",
              "      <th>id_filme</th>\n",
              "      <th>titulo</th>\n",
              "      <th>generos</th>\n",
              "      <th>nota</th>\n",
              "    </tr>\n",
              "  </thead>\n",
              "  <tbody>\n",
              "    <tr>\n",
              "      <th>816</th>\n",
              "      <td>1076</td>\n",
              "      <td>Innocents, The (1961)</td>\n",
              "      <td>Drama|Horror|Thriller</td>\n",
              "      <td>NaN</td>\n",
              "    </tr>\n",
              "    <tr>\n",
              "      <th>2211</th>\n",
              "      <td>2939</td>\n",
              "      <td>Niagara (1953)</td>\n",
              "      <td>Drama|Thriller</td>\n",
              "      <td>NaN</td>\n",
              "    </tr>\n",
              "    <tr>\n",
              "      <th>2499</th>\n",
              "      <td>3338</td>\n",
              "      <td>For All Mankind (1989)</td>\n",
              "      <td>Documentary</td>\n",
              "      <td>NaN</td>\n",
              "    </tr>\n",
              "    <tr>\n",
              "      <th>2587</th>\n",
              "      <td>3456</td>\n",
              "      <td>Color of Paradise, The (Rang-e khoda) (1999)</td>\n",
              "      <td>Drama</td>\n",
              "      <td>NaN</td>\n",
              "    </tr>\n",
              "    <tr>\n",
              "      <th>3118</th>\n",
              "      <td>4194</td>\n",
              "      <td>I Know Where I'm Going! (1945)</td>\n",
              "      <td>Drama|Romance|War</td>\n",
              "      <td>NaN</td>\n",
              "    </tr>\n",
              "    <tr>\n",
              "      <th>4037</th>\n",
              "      <td>5721</td>\n",
              "      <td>Chosen, The (1981)</td>\n",
              "      <td>Drama</td>\n",
              "      <td>NaN</td>\n",
              "    </tr>\n",
              "    <tr>\n",
              "      <th>4506</th>\n",
              "      <td>6668</td>\n",
              "      <td>Road Home, The (Wo de fu qin mu qin) (1999)</td>\n",
              "      <td>Drama|Romance</td>\n",
              "      <td>NaN</td>\n",
              "    </tr>\n",
              "    <tr>\n",
              "      <th>4598</th>\n",
              "      <td>6849</td>\n",
              "      <td>Scrooge (1970)</td>\n",
              "      <td>Drama|Fantasy|Musical</td>\n",
              "      <td>NaN</td>\n",
              "    </tr>\n",
              "    <tr>\n",
              "      <th>4704</th>\n",
              "      <td>7020</td>\n",
              "      <td>Proof (1991)</td>\n",
              "      <td>Comedy|Drama|Romance</td>\n",
              "      <td>NaN</td>\n",
              "    </tr>\n",
              "    <tr>\n",
              "      <th>5020</th>\n",
              "      <td>7792</td>\n",
              "      <td>Parallax View, The (1974)</td>\n",
              "      <td>Thriller</td>\n",
              "      <td>NaN</td>\n",
              "    </tr>\n",
              "    <tr>\n",
              "      <th>5293</th>\n",
              "      <td>8765</td>\n",
              "      <td>This Gun for Hire (1942)</td>\n",
              "      <td>Crime|Film-Noir|Thriller</td>\n",
              "      <td>NaN</td>\n",
              "    </tr>\n",
              "    <tr>\n",
              "      <th>5421</th>\n",
              "      <td>25855</td>\n",
              "      <td>Roaring Twenties, The (1939)</td>\n",
              "      <td>Crime|Drama|Thriller</td>\n",
              "      <td>NaN</td>\n",
              "    </tr>\n",
              "    <tr>\n",
              "      <th>5452</th>\n",
              "      <td>26085</td>\n",
              "      <td>Mutiny on the Bounty (1962)</td>\n",
              "      <td>Adventure|Drama|Romance</td>\n",
              "      <td>NaN</td>\n",
              "    </tr>\n",
              "    <tr>\n",
              "      <th>5749</th>\n",
              "      <td>30892</td>\n",
              "      <td>In the Realms of the Unreal (2004)</td>\n",
              "      <td>Animation|Documentary</td>\n",
              "      <td>NaN</td>\n",
              "    </tr>\n",
              "    <tr>\n",
              "      <th>5824</th>\n",
              "      <td>32160</td>\n",
              "      <td>Twentieth Century (1934)</td>\n",
              "      <td>Comedy</td>\n",
              "      <td>NaN</td>\n",
              "    </tr>\n",
              "    <tr>\n",
              "      <th>5837</th>\n",
              "      <td>32371</td>\n",
              "      <td>Call Northside 777 (1948)</td>\n",
              "      <td>Crime|Drama|Film-Noir</td>\n",
              "      <td>NaN</td>\n",
              "    </tr>\n",
              "    <tr>\n",
              "      <th>5957</th>\n",
              "      <td>34482</td>\n",
              "      <td>Browning Version, The (1951)</td>\n",
              "      <td>Drama</td>\n",
              "      <td>NaN</td>\n",
              "    </tr>\n",
              "    <tr>\n",
              "      <th>7565</th>\n",
              "      <td>85565</td>\n",
              "      <td>Chalet Girl (2011)</td>\n",
              "      <td>Comedy|Romance</td>\n",
              "      <td>NaN</td>\n",
              "    </tr>\n",
              "  </tbody>\n",
              "</table>\n",
              "</div>"
            ],
            "text/plain": [
              "      id_filme  ... nota\n",
              "816       1076  ...  NaN\n",
              "2211      2939  ...  NaN\n",
              "2499      3338  ...  NaN\n",
              "2587      3456  ...  NaN\n",
              "3118      4194  ...  NaN\n",
              "4037      5721  ...  NaN\n",
              "4506      6668  ...  NaN\n",
              "4598      6849  ...  NaN\n",
              "4704      7020  ...  NaN\n",
              "5020      7792  ...  NaN\n",
              "5293      8765  ...  NaN\n",
              "5421     25855  ...  NaN\n",
              "5452     26085  ...  NaN\n",
              "5749     30892  ...  NaN\n",
              "5824     32160  ...  NaN\n",
              "5837     32371  ...  NaN\n",
              "5957     34482  ...  NaN\n",
              "7565     85565  ...  NaN\n",
              "\n",
              "[18 rows x 4 columns]"
            ]
          },
          "metadata": {
            "tags": []
          },
          "execution_count": 406
        }
      ]
    },
    {
      "cell_type": "markdown",
      "metadata": {
        "id": "vDOJHWQfEEy4",
        "colab_type": "text"
      },
      "source": [
        "Desafio 2: Mudar o nome da coluna \"nota\" para \"Média\" no Dataframe de filme com média."
      ]
    },
    {
      "cell_type": "code",
      "metadata": {
        "id": "6w6C4kce7It3",
        "colab_type": "code",
        "colab": {
          "base_uri": "https://localhost:8080/",
          "height": 402
        },
        "outputId": "4af1a036-7798-43f8-b941-aab0e3f875b8"
      },
      "source": [
        "filme_com_media.columns = [\"id_filme\", \"titulo\", \"genero\", \"nota_media\"]\n",
        "filme_com_media"
      ],
      "execution_count": 407,
      "outputs": [
        {
          "output_type": "execute_result",
          "data": {
            "text/html": [
              "<div>\n",
              "<style scoped>\n",
              "    .dataframe tbody tr th:only-of-type {\n",
              "        vertical-align: middle;\n",
              "    }\n",
              "\n",
              "    .dataframe tbody tr th {\n",
              "        vertical-align: top;\n",
              "    }\n",
              "\n",
              "    .dataframe thead th {\n",
              "        text-align: right;\n",
              "    }\n",
              "</style>\n",
              "<table border=\"1\" class=\"dataframe\">\n",
              "  <thead>\n",
              "    <tr style=\"text-align: right;\">\n",
              "      <th></th>\n",
              "      <th>id_filme</th>\n",
              "      <th>titulo</th>\n",
              "      <th>genero</th>\n",
              "      <th>nota_media</th>\n",
              "    </tr>\n",
              "  </thead>\n",
              "  <tbody>\n",
              "    <tr>\n",
              "      <th>0</th>\n",
              "      <td>1</td>\n",
              "      <td>Toy Story (1995)</td>\n",
              "      <td>Adventure|Animation|Children|Comedy|Fantasy</td>\n",
              "      <td>3.920930</td>\n",
              "    </tr>\n",
              "    <tr>\n",
              "      <th>1</th>\n",
              "      <td>2</td>\n",
              "      <td>Jumanji (1995)</td>\n",
              "      <td>Adventure|Children|Fantasy</td>\n",
              "      <td>3.431818</td>\n",
              "    </tr>\n",
              "    <tr>\n",
              "      <th>2</th>\n",
              "      <td>3</td>\n",
              "      <td>Grumpier Old Men (1995)</td>\n",
              "      <td>Comedy|Romance</td>\n",
              "      <td>3.259615</td>\n",
              "    </tr>\n",
              "    <tr>\n",
              "      <th>3</th>\n",
              "      <td>4</td>\n",
              "      <td>Waiting to Exhale (1995)</td>\n",
              "      <td>Comedy|Drama|Romance</td>\n",
              "      <td>2.357143</td>\n",
              "    </tr>\n",
              "    <tr>\n",
              "      <th>4</th>\n",
              "      <td>5</td>\n",
              "      <td>Father of the Bride Part II (1995)</td>\n",
              "      <td>Comedy</td>\n",
              "      <td>3.071429</td>\n",
              "    </tr>\n",
              "    <tr>\n",
              "      <th>...</th>\n",
              "      <td>...</td>\n",
              "      <td>...</td>\n",
              "      <td>...</td>\n",
              "      <td>...</td>\n",
              "    </tr>\n",
              "    <tr>\n",
              "      <th>9737</th>\n",
              "      <td>193581</td>\n",
              "      <td>Black Butler: Book of the Atlantic (2017)</td>\n",
              "      <td>Action|Animation|Comedy|Fantasy</td>\n",
              "      <td>4.000000</td>\n",
              "    </tr>\n",
              "    <tr>\n",
              "      <th>9738</th>\n",
              "      <td>193583</td>\n",
              "      <td>No Game No Life: Zero (2017)</td>\n",
              "      <td>Animation|Comedy|Fantasy</td>\n",
              "      <td>3.500000</td>\n",
              "    </tr>\n",
              "    <tr>\n",
              "      <th>9739</th>\n",
              "      <td>193585</td>\n",
              "      <td>Flint (2017)</td>\n",
              "      <td>Drama</td>\n",
              "      <td>3.500000</td>\n",
              "    </tr>\n",
              "    <tr>\n",
              "      <th>9740</th>\n",
              "      <td>193587</td>\n",
              "      <td>Bungo Stray Dogs: Dead Apple (2018)</td>\n",
              "      <td>Action|Animation</td>\n",
              "      <td>3.500000</td>\n",
              "    </tr>\n",
              "    <tr>\n",
              "      <th>9741</th>\n",
              "      <td>193609</td>\n",
              "      <td>Andrew Dice Clay: Dice Rules (1991)</td>\n",
              "      <td>Comedy</td>\n",
              "      <td>4.000000</td>\n",
              "    </tr>\n",
              "  </tbody>\n",
              "</table>\n",
              "<p>9742 rows × 4 columns</p>\n",
              "</div>"
            ],
            "text/plain": [
              "      id_filme  ... nota_media\n",
              "0            1  ...   3.920930\n",
              "1            2  ...   3.431818\n",
              "2            3  ...   3.259615\n",
              "3            4  ...   2.357143\n",
              "4            5  ...   3.071429\n",
              "...        ...  ...        ...\n",
              "9737    193581  ...   4.000000\n",
              "9738    193583  ...   3.500000\n",
              "9739    193585  ...   3.500000\n",
              "9740    193587  ...   3.500000\n",
              "9741    193609  ...   4.000000\n",
              "\n",
              "[9742 rows x 4 columns]"
            ]
          },
          "metadata": {
            "tags": []
          },
          "execution_count": 407
        }
      ]
    },
    {
      "cell_type": "markdown",
      "metadata": {
        "id": "_x1BxPHIGXpD",
        "colab_type": "text"
      },
      "source": [
        "Desafio 3: Colocar o número de avaliações por filme, isto é, não só a média mas o TOTAL de votos por filme."
      ]
    },
    {
      "cell_type": "code",
      "metadata": {
        "id": "GdKeO0SQESAQ",
        "colab_type": "code",
        "colab": {
          "base_uri": "https://localhost:8080/",
          "height": 235
        },
        "outputId": "86ddcb2c-4f0c-4f02-bd7f-35f6dab6212a"
      },
      "source": [
        "num_av_filme = avaliacoes.groupby(\"id_filme\")[\"nota\"].count()\n",
        "num_av_filme"
      ],
      "execution_count": 408,
      "outputs": [
        {
          "output_type": "execute_result",
          "data": {
            "text/plain": [
              "id_filme\n",
              "1         215\n",
              "2         110\n",
              "3          52\n",
              "4           7\n",
              "5          49\n",
              "         ... \n",
              "193581      1\n",
              "193583      1\n",
              "193585      1\n",
              "193587      1\n",
              "193609      1\n",
              "Name: nota, Length: 9724, dtype: int64"
            ]
          },
          "metadata": {
            "tags": []
          },
          "execution_count": 408
        }
      ]
    },
    {
      "cell_type": "code",
      "metadata": {
        "id": "m8DxvLG-GdHe",
        "colab_type": "code",
        "colab": {
          "base_uri": "https://localhost:8080/",
          "height": 402
        },
        "outputId": "d8283b29-d5b4-4f42-efc2-dec7d7dc302c"
      },
      "source": [
        "filme_com_qtd_avaliacao = filmes.join(num_av_filme, on='id_filme')\n",
        "filme_com_qtd_avaliacao.columns = [\"id_filme\", \"titulo\", \"genero\", \"qtd_notas\"]\n",
        "filme_com_qtd_avaliacao"
      ],
      "execution_count": 409,
      "outputs": [
        {
          "output_type": "execute_result",
          "data": {
            "text/html": [
              "<div>\n",
              "<style scoped>\n",
              "    .dataframe tbody tr th:only-of-type {\n",
              "        vertical-align: middle;\n",
              "    }\n",
              "\n",
              "    .dataframe tbody tr th {\n",
              "        vertical-align: top;\n",
              "    }\n",
              "\n",
              "    .dataframe thead th {\n",
              "        text-align: right;\n",
              "    }\n",
              "</style>\n",
              "<table border=\"1\" class=\"dataframe\">\n",
              "  <thead>\n",
              "    <tr style=\"text-align: right;\">\n",
              "      <th></th>\n",
              "      <th>id_filme</th>\n",
              "      <th>titulo</th>\n",
              "      <th>genero</th>\n",
              "      <th>qtd_notas</th>\n",
              "    </tr>\n",
              "  </thead>\n",
              "  <tbody>\n",
              "    <tr>\n",
              "      <th>0</th>\n",
              "      <td>1</td>\n",
              "      <td>Toy Story (1995)</td>\n",
              "      <td>Adventure|Animation|Children|Comedy|Fantasy</td>\n",
              "      <td>215.0</td>\n",
              "    </tr>\n",
              "    <tr>\n",
              "      <th>1</th>\n",
              "      <td>2</td>\n",
              "      <td>Jumanji (1995)</td>\n",
              "      <td>Adventure|Children|Fantasy</td>\n",
              "      <td>110.0</td>\n",
              "    </tr>\n",
              "    <tr>\n",
              "      <th>2</th>\n",
              "      <td>3</td>\n",
              "      <td>Grumpier Old Men (1995)</td>\n",
              "      <td>Comedy|Romance</td>\n",
              "      <td>52.0</td>\n",
              "    </tr>\n",
              "    <tr>\n",
              "      <th>3</th>\n",
              "      <td>4</td>\n",
              "      <td>Waiting to Exhale (1995)</td>\n",
              "      <td>Comedy|Drama|Romance</td>\n",
              "      <td>7.0</td>\n",
              "    </tr>\n",
              "    <tr>\n",
              "      <th>4</th>\n",
              "      <td>5</td>\n",
              "      <td>Father of the Bride Part II (1995)</td>\n",
              "      <td>Comedy</td>\n",
              "      <td>49.0</td>\n",
              "    </tr>\n",
              "    <tr>\n",
              "      <th>...</th>\n",
              "      <td>...</td>\n",
              "      <td>...</td>\n",
              "      <td>...</td>\n",
              "      <td>...</td>\n",
              "    </tr>\n",
              "    <tr>\n",
              "      <th>9737</th>\n",
              "      <td>193581</td>\n",
              "      <td>Black Butler: Book of the Atlantic (2017)</td>\n",
              "      <td>Action|Animation|Comedy|Fantasy</td>\n",
              "      <td>1.0</td>\n",
              "    </tr>\n",
              "    <tr>\n",
              "      <th>9738</th>\n",
              "      <td>193583</td>\n",
              "      <td>No Game No Life: Zero (2017)</td>\n",
              "      <td>Animation|Comedy|Fantasy</td>\n",
              "      <td>1.0</td>\n",
              "    </tr>\n",
              "    <tr>\n",
              "      <th>9739</th>\n",
              "      <td>193585</td>\n",
              "      <td>Flint (2017)</td>\n",
              "      <td>Drama</td>\n",
              "      <td>1.0</td>\n",
              "    </tr>\n",
              "    <tr>\n",
              "      <th>9740</th>\n",
              "      <td>193587</td>\n",
              "      <td>Bungo Stray Dogs: Dead Apple (2018)</td>\n",
              "      <td>Action|Animation</td>\n",
              "      <td>1.0</td>\n",
              "    </tr>\n",
              "    <tr>\n",
              "      <th>9741</th>\n",
              "      <td>193609</td>\n",
              "      <td>Andrew Dice Clay: Dice Rules (1991)</td>\n",
              "      <td>Comedy</td>\n",
              "      <td>1.0</td>\n",
              "    </tr>\n",
              "  </tbody>\n",
              "</table>\n",
              "<p>9742 rows × 4 columns</p>\n",
              "</div>"
            ],
            "text/plain": [
              "      id_filme  ... qtd_notas\n",
              "0            1  ...     215.0\n",
              "1            2  ...     110.0\n",
              "2            3  ...      52.0\n",
              "3            4  ...       7.0\n",
              "4            5  ...      49.0\n",
              "...        ...  ...       ...\n",
              "9737    193581  ...       1.0\n",
              "9738    193583  ...       1.0\n",
              "9739    193585  ...       1.0\n",
              "9740    193587  ...       1.0\n",
              "9741    193609  ...       1.0\n",
              "\n",
              "[9742 rows x 4 columns]"
            ]
          },
          "metadata": {
            "tags": []
          },
          "execution_count": 409
        }
      ]
    },
    {
      "cell_type": "markdown",
      "metadata": {
        "id": "d-AIvpbqIzcF",
        "colab_type": "text"
      },
      "source": [
        "Desafio 4: Arredondar as médias (coluna de nota média) para duas casas decimais."
      ]
    },
    {
      "cell_type": "code",
      "metadata": {
        "id": "HgIjCMlUIfw6",
        "colab_type": "code",
        "colab": {
          "base_uri": "https://localhost:8080/",
          "height": 402
        },
        "outputId": "5a732f65-2093-4dd6-d75d-83dcd421e751"
      },
      "source": [
        "filme_com_media_aprox = filmes.join(media_por_filme, on = \"id_filme\")\n",
        "filme_com_media_aprox.nota = filme_com_media_aprox.nota.round(2)\n",
        "filme_com_media_aprox\n"
      ],
      "execution_count": 428,
      "outputs": [
        {
          "output_type": "execute_result",
          "data": {
            "text/html": [
              "<div>\n",
              "<style scoped>\n",
              "    .dataframe tbody tr th:only-of-type {\n",
              "        vertical-align: middle;\n",
              "    }\n",
              "\n",
              "    .dataframe tbody tr th {\n",
              "        vertical-align: top;\n",
              "    }\n",
              "\n",
              "    .dataframe thead th {\n",
              "        text-align: right;\n",
              "    }\n",
              "</style>\n",
              "<table border=\"1\" class=\"dataframe\">\n",
              "  <thead>\n",
              "    <tr style=\"text-align: right;\">\n",
              "      <th></th>\n",
              "      <th>id_filme</th>\n",
              "      <th>titulo</th>\n",
              "      <th>generos</th>\n",
              "      <th>nota</th>\n",
              "    </tr>\n",
              "  </thead>\n",
              "  <tbody>\n",
              "    <tr>\n",
              "      <th>0</th>\n",
              "      <td>1</td>\n",
              "      <td>Toy Story (1995)</td>\n",
              "      <td>Adventure|Animation|Children|Comedy|Fantasy</td>\n",
              "      <td>3.92</td>\n",
              "    </tr>\n",
              "    <tr>\n",
              "      <th>1</th>\n",
              "      <td>2</td>\n",
              "      <td>Jumanji (1995)</td>\n",
              "      <td>Adventure|Children|Fantasy</td>\n",
              "      <td>3.43</td>\n",
              "    </tr>\n",
              "    <tr>\n",
              "      <th>2</th>\n",
              "      <td>3</td>\n",
              "      <td>Grumpier Old Men (1995)</td>\n",
              "      <td>Comedy|Romance</td>\n",
              "      <td>3.26</td>\n",
              "    </tr>\n",
              "    <tr>\n",
              "      <th>3</th>\n",
              "      <td>4</td>\n",
              "      <td>Waiting to Exhale (1995)</td>\n",
              "      <td>Comedy|Drama|Romance</td>\n",
              "      <td>2.36</td>\n",
              "    </tr>\n",
              "    <tr>\n",
              "      <th>4</th>\n",
              "      <td>5</td>\n",
              "      <td>Father of the Bride Part II (1995)</td>\n",
              "      <td>Comedy</td>\n",
              "      <td>3.07</td>\n",
              "    </tr>\n",
              "    <tr>\n",
              "      <th>...</th>\n",
              "      <td>...</td>\n",
              "      <td>...</td>\n",
              "      <td>...</td>\n",
              "      <td>...</td>\n",
              "    </tr>\n",
              "    <tr>\n",
              "      <th>9737</th>\n",
              "      <td>193581</td>\n",
              "      <td>Black Butler: Book of the Atlantic (2017)</td>\n",
              "      <td>Action|Animation|Comedy|Fantasy</td>\n",
              "      <td>4.00</td>\n",
              "    </tr>\n",
              "    <tr>\n",
              "      <th>9738</th>\n",
              "      <td>193583</td>\n",
              "      <td>No Game No Life: Zero (2017)</td>\n",
              "      <td>Animation|Comedy|Fantasy</td>\n",
              "      <td>3.50</td>\n",
              "    </tr>\n",
              "    <tr>\n",
              "      <th>9739</th>\n",
              "      <td>193585</td>\n",
              "      <td>Flint (2017)</td>\n",
              "      <td>Drama</td>\n",
              "      <td>3.50</td>\n",
              "    </tr>\n",
              "    <tr>\n",
              "      <th>9740</th>\n",
              "      <td>193587</td>\n",
              "      <td>Bungo Stray Dogs: Dead Apple (2018)</td>\n",
              "      <td>Action|Animation</td>\n",
              "      <td>3.50</td>\n",
              "    </tr>\n",
              "    <tr>\n",
              "      <th>9741</th>\n",
              "      <td>193609</td>\n",
              "      <td>Andrew Dice Clay: Dice Rules (1991)</td>\n",
              "      <td>Comedy</td>\n",
              "      <td>4.00</td>\n",
              "    </tr>\n",
              "  </tbody>\n",
              "</table>\n",
              "<p>9742 rows × 4 columns</p>\n",
              "</div>"
            ],
            "text/plain": [
              "      id_filme  ...  nota\n",
              "0            1  ...  3.92\n",
              "1            2  ...  3.43\n",
              "2            3  ...  3.26\n",
              "3            4  ...  2.36\n",
              "4            5  ...  3.07\n",
              "...        ...  ...   ...\n",
              "9737    193581  ...  4.00\n",
              "9738    193583  ...  3.50\n",
              "9739    193585  ...  3.50\n",
              "9740    193587  ...  3.50\n",
              "9741    193609  ...  4.00\n",
              "\n",
              "[9742 rows x 4 columns]"
            ]
          },
          "metadata": {
            "tags": []
          },
          "execution_count": 428
        }
      ]
    },
    {
      "cell_type": "markdown",
      "metadata": {
        "id": "bP8L3m6sKGHy",
        "colab_type": "text"
      },
      "source": [
        "Desafios 5 e 6: \n",
        "\n",
        "-Descobrir os generos dos filmes (quais são eles, únicos).\n",
        "\n",
        "-Contar o número de aparições de cada genero.\n"
      ]
    },
    {
      "cell_type": "code",
      "metadata": {
        "id": "SWYqeBhzI7F6",
        "colab_type": "code",
        "colab": {
          "base_uri": "https://localhost:8080/",
          "height": 353
        },
        "outputId": "18491968-a935-44f7-a6e7-2cdebd9dd1d8"
      },
      "source": [
        "#Maneira de fazer sem utilizar a biblioteca Pandas\n",
        "\n",
        "generos_distintos = []\n",
        "\n",
        "for generos in filmes['generos'].str.split('|'):\n",
        "  for genero in generos:\n",
        "    if genero not in generos_distintos:\n",
        "      generos_distintos.append(genero)\n",
        "\n",
        "generos_distintos"
      ],
      "execution_count": 411,
      "outputs": [
        {
          "output_type": "execute_result",
          "data": {
            "text/plain": [
              "['Adventure',\n",
              " 'Animation',\n",
              " 'Children',\n",
              " 'Comedy',\n",
              " 'Fantasy',\n",
              " 'Romance',\n",
              " 'Drama',\n",
              " 'Action',\n",
              " 'Crime',\n",
              " 'Thriller',\n",
              " 'Horror',\n",
              " 'Mystery',\n",
              " 'Sci-Fi',\n",
              " 'War',\n",
              " 'Musical',\n",
              " 'Documentary',\n",
              " 'IMAX',\n",
              " 'Western',\n",
              " 'Film-Noir',\n",
              " '(no genres listed)']"
            ]
          },
          "metadata": {
            "tags": []
          },
          "execution_count": 411
        }
      ]
    },
    {
      "cell_type": "code",
      "metadata": {
        "id": "gTX49jS0ObFY",
        "colab_type": "code",
        "colab": {
          "base_uri": "https://localhost:8080/",
          "height": 353
        },
        "outputId": "3fba4a1b-7a15-4913-db8a-cfe195918c7d"
      },
      "source": [
        "#Obtendo de forma manual a quantidade de filmes em cada genero, através de um contador\n",
        "\n",
        "qtd_generos = {genero : 0 for genero in generos_distintos}\n",
        "\n",
        "for generos in filmes['generos'].str.split('|'):\n",
        "  for genero in generos:\n",
        "    qtd_generos[genero] = qtd_generos[genero] + 1\n",
        "\n",
        "qtd_generos"
      ],
      "execution_count": 412,
      "outputs": [
        {
          "output_type": "execute_result",
          "data": {
            "text/plain": [
              "{'(no genres listed)': 34,\n",
              " 'Action': 1828,\n",
              " 'Adventure': 1263,\n",
              " 'Animation': 611,\n",
              " 'Children': 664,\n",
              " 'Comedy': 3756,\n",
              " 'Crime': 1199,\n",
              " 'Documentary': 440,\n",
              " 'Drama': 4361,\n",
              " 'Fantasy': 779,\n",
              " 'Film-Noir': 87,\n",
              " 'Horror': 978,\n",
              " 'IMAX': 158,\n",
              " 'Musical': 334,\n",
              " 'Mystery': 573,\n",
              " 'Romance': 1596,\n",
              " 'Sci-Fi': 980,\n",
              " 'Thriller': 1894,\n",
              " 'War': 382,\n",
              " 'Western': 167}"
            ]
          },
          "metadata": {
            "tags": []
          },
          "execution_count": 412
        }
      ]
    },
    {
      "cell_type": "code",
      "metadata": {
        "id": "-IWlMwWfL5B2",
        "colab_type": "code",
        "colab": {
          "base_uri": "https://localhost:8080/",
          "height": 455
        },
        "outputId": "5737761c-76ec-41b2-bd8f-74d6c99226a0"
      },
      "source": [
        "#Forma de retornar cada generos utilizando a função \"get_dummies\".\n",
        "#Ela separa a string no parametro dado (no caso, \"|\"), e determina cada item diferente como uma coluna no Dataframe gerado \n",
        "filmes['generos'].str.get_dummies('|')"
      ],
      "execution_count": 413,
      "outputs": [
        {
          "output_type": "execute_result",
          "data": {
            "text/html": [
              "<div>\n",
              "<style scoped>\n",
              "    .dataframe tbody tr th:only-of-type {\n",
              "        vertical-align: middle;\n",
              "    }\n",
              "\n",
              "    .dataframe tbody tr th {\n",
              "        vertical-align: top;\n",
              "    }\n",
              "\n",
              "    .dataframe thead th {\n",
              "        text-align: right;\n",
              "    }\n",
              "</style>\n",
              "<table border=\"1\" class=\"dataframe\">\n",
              "  <thead>\n",
              "    <tr style=\"text-align: right;\">\n",
              "      <th></th>\n",
              "      <th>(no genres listed)</th>\n",
              "      <th>Action</th>\n",
              "      <th>Adventure</th>\n",
              "      <th>Animation</th>\n",
              "      <th>Children</th>\n",
              "      <th>Comedy</th>\n",
              "      <th>Crime</th>\n",
              "      <th>Documentary</th>\n",
              "      <th>Drama</th>\n",
              "      <th>Fantasy</th>\n",
              "      <th>Film-Noir</th>\n",
              "      <th>Horror</th>\n",
              "      <th>IMAX</th>\n",
              "      <th>Musical</th>\n",
              "      <th>Mystery</th>\n",
              "      <th>Romance</th>\n",
              "      <th>Sci-Fi</th>\n",
              "      <th>Thriller</th>\n",
              "      <th>War</th>\n",
              "      <th>Western</th>\n",
              "    </tr>\n",
              "  </thead>\n",
              "  <tbody>\n",
              "    <tr>\n",
              "      <th>0</th>\n",
              "      <td>0</td>\n",
              "      <td>0</td>\n",
              "      <td>1</td>\n",
              "      <td>1</td>\n",
              "      <td>1</td>\n",
              "      <td>1</td>\n",
              "      <td>0</td>\n",
              "      <td>0</td>\n",
              "      <td>0</td>\n",
              "      <td>1</td>\n",
              "      <td>0</td>\n",
              "      <td>0</td>\n",
              "      <td>0</td>\n",
              "      <td>0</td>\n",
              "      <td>0</td>\n",
              "      <td>0</td>\n",
              "      <td>0</td>\n",
              "      <td>0</td>\n",
              "      <td>0</td>\n",
              "      <td>0</td>\n",
              "    </tr>\n",
              "    <tr>\n",
              "      <th>1</th>\n",
              "      <td>0</td>\n",
              "      <td>0</td>\n",
              "      <td>1</td>\n",
              "      <td>0</td>\n",
              "      <td>1</td>\n",
              "      <td>0</td>\n",
              "      <td>0</td>\n",
              "      <td>0</td>\n",
              "      <td>0</td>\n",
              "      <td>1</td>\n",
              "      <td>0</td>\n",
              "      <td>0</td>\n",
              "      <td>0</td>\n",
              "      <td>0</td>\n",
              "      <td>0</td>\n",
              "      <td>0</td>\n",
              "      <td>0</td>\n",
              "      <td>0</td>\n",
              "      <td>0</td>\n",
              "      <td>0</td>\n",
              "    </tr>\n",
              "    <tr>\n",
              "      <th>2</th>\n",
              "      <td>0</td>\n",
              "      <td>0</td>\n",
              "      <td>0</td>\n",
              "      <td>0</td>\n",
              "      <td>0</td>\n",
              "      <td>1</td>\n",
              "      <td>0</td>\n",
              "      <td>0</td>\n",
              "      <td>0</td>\n",
              "      <td>0</td>\n",
              "      <td>0</td>\n",
              "      <td>0</td>\n",
              "      <td>0</td>\n",
              "      <td>0</td>\n",
              "      <td>0</td>\n",
              "      <td>1</td>\n",
              "      <td>0</td>\n",
              "      <td>0</td>\n",
              "      <td>0</td>\n",
              "      <td>0</td>\n",
              "    </tr>\n",
              "    <tr>\n",
              "      <th>3</th>\n",
              "      <td>0</td>\n",
              "      <td>0</td>\n",
              "      <td>0</td>\n",
              "      <td>0</td>\n",
              "      <td>0</td>\n",
              "      <td>1</td>\n",
              "      <td>0</td>\n",
              "      <td>0</td>\n",
              "      <td>1</td>\n",
              "      <td>0</td>\n",
              "      <td>0</td>\n",
              "      <td>0</td>\n",
              "      <td>0</td>\n",
              "      <td>0</td>\n",
              "      <td>0</td>\n",
              "      <td>1</td>\n",
              "      <td>0</td>\n",
              "      <td>0</td>\n",
              "      <td>0</td>\n",
              "      <td>0</td>\n",
              "    </tr>\n",
              "    <tr>\n",
              "      <th>4</th>\n",
              "      <td>0</td>\n",
              "      <td>0</td>\n",
              "      <td>0</td>\n",
              "      <td>0</td>\n",
              "      <td>0</td>\n",
              "      <td>1</td>\n",
              "      <td>0</td>\n",
              "      <td>0</td>\n",
              "      <td>0</td>\n",
              "      <td>0</td>\n",
              "      <td>0</td>\n",
              "      <td>0</td>\n",
              "      <td>0</td>\n",
              "      <td>0</td>\n",
              "      <td>0</td>\n",
              "      <td>0</td>\n",
              "      <td>0</td>\n",
              "      <td>0</td>\n",
              "      <td>0</td>\n",
              "      <td>0</td>\n",
              "    </tr>\n",
              "    <tr>\n",
              "      <th>...</th>\n",
              "      <td>...</td>\n",
              "      <td>...</td>\n",
              "      <td>...</td>\n",
              "      <td>...</td>\n",
              "      <td>...</td>\n",
              "      <td>...</td>\n",
              "      <td>...</td>\n",
              "      <td>...</td>\n",
              "      <td>...</td>\n",
              "      <td>...</td>\n",
              "      <td>...</td>\n",
              "      <td>...</td>\n",
              "      <td>...</td>\n",
              "      <td>...</td>\n",
              "      <td>...</td>\n",
              "      <td>...</td>\n",
              "      <td>...</td>\n",
              "      <td>...</td>\n",
              "      <td>...</td>\n",
              "      <td>...</td>\n",
              "    </tr>\n",
              "    <tr>\n",
              "      <th>9737</th>\n",
              "      <td>0</td>\n",
              "      <td>1</td>\n",
              "      <td>0</td>\n",
              "      <td>1</td>\n",
              "      <td>0</td>\n",
              "      <td>1</td>\n",
              "      <td>0</td>\n",
              "      <td>0</td>\n",
              "      <td>0</td>\n",
              "      <td>1</td>\n",
              "      <td>0</td>\n",
              "      <td>0</td>\n",
              "      <td>0</td>\n",
              "      <td>0</td>\n",
              "      <td>0</td>\n",
              "      <td>0</td>\n",
              "      <td>0</td>\n",
              "      <td>0</td>\n",
              "      <td>0</td>\n",
              "      <td>0</td>\n",
              "    </tr>\n",
              "    <tr>\n",
              "      <th>9738</th>\n",
              "      <td>0</td>\n",
              "      <td>0</td>\n",
              "      <td>0</td>\n",
              "      <td>1</td>\n",
              "      <td>0</td>\n",
              "      <td>1</td>\n",
              "      <td>0</td>\n",
              "      <td>0</td>\n",
              "      <td>0</td>\n",
              "      <td>1</td>\n",
              "      <td>0</td>\n",
              "      <td>0</td>\n",
              "      <td>0</td>\n",
              "      <td>0</td>\n",
              "      <td>0</td>\n",
              "      <td>0</td>\n",
              "      <td>0</td>\n",
              "      <td>0</td>\n",
              "      <td>0</td>\n",
              "      <td>0</td>\n",
              "    </tr>\n",
              "    <tr>\n",
              "      <th>9739</th>\n",
              "      <td>0</td>\n",
              "      <td>0</td>\n",
              "      <td>0</td>\n",
              "      <td>0</td>\n",
              "      <td>0</td>\n",
              "      <td>0</td>\n",
              "      <td>0</td>\n",
              "      <td>0</td>\n",
              "      <td>1</td>\n",
              "      <td>0</td>\n",
              "      <td>0</td>\n",
              "      <td>0</td>\n",
              "      <td>0</td>\n",
              "      <td>0</td>\n",
              "      <td>0</td>\n",
              "      <td>0</td>\n",
              "      <td>0</td>\n",
              "      <td>0</td>\n",
              "      <td>0</td>\n",
              "      <td>0</td>\n",
              "    </tr>\n",
              "    <tr>\n",
              "      <th>9740</th>\n",
              "      <td>0</td>\n",
              "      <td>1</td>\n",
              "      <td>0</td>\n",
              "      <td>1</td>\n",
              "      <td>0</td>\n",
              "      <td>0</td>\n",
              "      <td>0</td>\n",
              "      <td>0</td>\n",
              "      <td>0</td>\n",
              "      <td>0</td>\n",
              "      <td>0</td>\n",
              "      <td>0</td>\n",
              "      <td>0</td>\n",
              "      <td>0</td>\n",
              "      <td>0</td>\n",
              "      <td>0</td>\n",
              "      <td>0</td>\n",
              "      <td>0</td>\n",
              "      <td>0</td>\n",
              "      <td>0</td>\n",
              "    </tr>\n",
              "    <tr>\n",
              "      <th>9741</th>\n",
              "      <td>0</td>\n",
              "      <td>0</td>\n",
              "      <td>0</td>\n",
              "      <td>0</td>\n",
              "      <td>0</td>\n",
              "      <td>1</td>\n",
              "      <td>0</td>\n",
              "      <td>0</td>\n",
              "      <td>0</td>\n",
              "      <td>0</td>\n",
              "      <td>0</td>\n",
              "      <td>0</td>\n",
              "      <td>0</td>\n",
              "      <td>0</td>\n",
              "      <td>0</td>\n",
              "      <td>0</td>\n",
              "      <td>0</td>\n",
              "      <td>0</td>\n",
              "      <td>0</td>\n",
              "      <td>0</td>\n",
              "    </tr>\n",
              "  </tbody>\n",
              "</table>\n",
              "<p>9742 rows × 20 columns</p>\n",
              "</div>"
            ],
            "text/plain": [
              "      (no genres listed)  Action  Adventure  ...  Thriller  War  Western\n",
              "0                      0       0          1  ...         0    0        0\n",
              "1                      0       0          1  ...         0    0        0\n",
              "2                      0       0          0  ...         0    0        0\n",
              "3                      0       0          0  ...         0    0        0\n",
              "4                      0       0          0  ...         0    0        0\n",
              "...                  ...     ...        ...  ...       ...  ...      ...\n",
              "9737                   0       1          0  ...         0    0        0\n",
              "9738                   0       0          0  ...         0    0        0\n",
              "9739                   0       0          0  ...         0    0        0\n",
              "9740                   0       1          0  ...         0    0        0\n",
              "9741                   0       0          0  ...         0    0        0\n",
              "\n",
              "[9742 rows x 20 columns]"
            ]
          },
          "metadata": {
            "tags": []
          },
          "execution_count": 413
        }
      ]
    },
    {
      "cell_type": "code",
      "metadata": {
        "id": "ATJKogo9MtjQ",
        "colab_type": "code",
        "colab": {
          "base_uri": "https://localhost:8080/",
          "height": 370
        },
        "outputId": "9fe8dd96-f820-4697-c712-1e9100844ca9"
      },
      "source": [
        "# Então é possível somar quantas vezes a função obteve o retorno \"True\", para cada genero destacado no metodo \"get_dummies\"\n",
        "\n",
        "qtd_generos2 = filmes['generos'].str.get_dummies('|').sum()\n",
        "qtd_generos2"
      ],
      "execution_count": 414,
      "outputs": [
        {
          "output_type": "execute_result",
          "data": {
            "text/plain": [
              "(no genres listed)      34\n",
              "Action                1828\n",
              "Adventure             1263\n",
              "Animation              611\n",
              "Children               664\n",
              "Comedy                3756\n",
              "Crime                 1199\n",
              "Documentary            440\n",
              "Drama                 4361\n",
              "Fantasy                779\n",
              "Film-Noir               87\n",
              "Horror                 978\n",
              "IMAX                   158\n",
              "Musical                334\n",
              "Mystery                573\n",
              "Romance               1596\n",
              "Sci-Fi                 980\n",
              "Thriller              1894\n",
              "War                    382\n",
              "Western                167\n",
              "dtype: int64"
            ]
          },
          "metadata": {
            "tags": []
          },
          "execution_count": 414
        }
      ]
    },
    {
      "cell_type": "markdown",
      "metadata": {
        "id": "KRtfMMEtQ3mG",
        "colab_type": "text"
      },
      "source": [
        "Desafio 7: Plotar o gráfico de aparições de cada genero. Pode ser um gráfico de tipo igual a barra.\n"
      ]
    },
    {
      "cell_type": "code",
      "metadata": {
        "id": "RSwbDB_5OJPP",
        "colab_type": "code",
        "colab": {
          "base_uri": "https://localhost:8080/",
          "height": 463
        },
        "outputId": "28e5a85f-d150-4a70-cea0-91d9ccd21a1d"
      },
      "source": [
        "#Para o primeiro método:\n",
        "    #from operator import itemgetter\n",
        "    #for3 item in sorted(qtd_generos, key = qtd_generos.get):\n",
        "    #    print (qtd_generos[item])\n",
        "\n",
        "plt.figure(figsize=(20,8))\n",
        "plt.bar(qtd_generos.keys(), qtd_generos.values())\n",
        "plt.show()"
      ],
      "execution_count": 415,
      "outputs": [
        {
          "output_type": "display_data",
          "data": {
            "image/png": "[encoded data removed]",
            "text/plain": [
              "<Figure size 1440x576 with 1 Axes>"
            ]
          },
          "metadata": {
            "tags": []
          }
        }
      ]
    },
    {
      "cell_type": "code",
      "metadata": {
        "id": "NSryK41AW70H",
        "colab_type": "code",
        "colab": {
          "base_uri": "https://localhost:8080/",
          "height": 555
        },
        "outputId": "bd3da6ae-c17e-4665-db1c-c53cc4a3c40e"
      },
      "source": [
        "#Para o método 2\n",
        "\n",
        "qtd_generos2 = filmes['generos'].str.get_dummies('|').sum().sort_values(ascending=False)\n",
        "qtd_generos2.sort_values(ascending=False).plot(kind='bar', figsize = (20,8))"
      ],
      "execution_count": 416,
      "outputs": [
        {
          "output_type": "execute_result",
          "data": {
            "text/plain": [
              "<matplotlib.axes._subplots.AxesSubplot at 0x7f6fd39d87f0>"
            ]
          },
          "metadata": {
            "tags": []
          },
          "execution_count": 416
        },
        {
          "output_type": "display_data",
          "data": {
            "image/png": "[encoded data removed]",
            "text/plain": [
              "<Figure size 1440x576 with 1 Axes>"
            ]
          },
          "metadata": {
            "tags": []
          }
        }
      ]
    },
    {
      "cell_type": "markdown",
      "metadata": {
        "id": "BOG2l_vGc4YV",
        "colab_type": "text"
      },
      "source": [
        "#**Aula 2** - Técnicas de centralidade e visualização de dados"
      ]
    },
    {
      "cell_type": "markdown",
      "metadata": {
        "id": "bjM-rwMKevMN",
        "colab_type": "text"
      },
      "source": [
        "###Utilizando os gráficos de generos de filmes criados nos desafios da aula 1:\n",
        "O gráfico de pizza não é recomendado pois é dificil definir visualmente apenas qual é o maior genero. Entre Drama e comédia por exemplo, como ambos possuem areas parecidas visualmente, não é possível determinar qual é maior com facilidade.\n",
        "Além de que, neste caso, a paleta de cores está limitada, então em certo ponto elas começam a se repetir"
      ]
    },
    {
      "cell_type": "code",
      "metadata": {
        "id": "IJd4UaBweeGF",
        "colab_type": "code",
        "colab": {
          "base_uri": "https://localhost:8080/",
          "height": 482
        },
        "outputId": "67a22825-fb97-48c1-f683-10ed62d2f374"
      },
      "source": [
        "qtd_generos2.plot(\n",
        "    kind='pie', \n",
        "    title = 'Quantidade relativa de filmes por genero',\n",
        "    figsize = (20,8))\n",
        "plt.show()"
      ],
      "execution_count": 417,
      "outputs": [
        {
          "output_type": "display_data",
          "data": {
            "image/png": "[encoded data removed]",
            "text/plain": [
              "<Figure size 1440x576 with 1 Axes>"
            ]
          },
          "metadata": {
            "tags": []
          }
        }
      ]
    },
    {
      "cell_type": "markdown",
      "metadata": {
        "id": "NZdnk0JcfcbZ",
        "colab_type": "text"
      },
      "source": [
        "O tipo de gráfico recomendado para este tipo de análise seria o prórpio gráfico de barras, usado na resolução do desafio da aula 1. Já que a base dos retangulos é constante, precisamos apenas comparar as alturas, e isso facilita o processo e é possível definir com clareza qual genero está em maior quantidade."
      ]
    },
    {
      "cell_type": "code",
      "metadata": {
        "id": "fm9gr0PobtE0",
        "colab_type": "code",
        "colab": {
          "base_uri": "https://localhost:8080/",
          "height": 554
        },
        "outputId": "863dbb0c-f955-4418-a2ab-bc92bd0c8166"
      },
      "source": [
        "qtd_generos2.plot(\n",
        "    kind='bar', \n",
        "    title = 'Quantidade de filmes por genero',\n",
        "    figsize = (20,8))\n",
        "plt.show()"
      ],
      "execution_count": 418,
      "outputs": [
        {
          "output_type": "display_data",
          "data": {
            "image/png": "[encoded data removed]",
            "text/plain": [
              "<Figure size 1440x576 with 1 Axes>"
            ]
          },
          "metadata": {
            "tags": []
          }
        }
      ]
    },
    {
      "cell_type": "markdown",
      "metadata": {
        "id": "ChS32G5DggKd",
        "colab_type": "text"
      },
      "source": [
        "Com o gráfico de barras, a diferença entre os gêneros fica mais evidente. Porém também é possível mapear melhor essa diferença, adicionando uma paleta de cores. Para este tipo de análise, uma boa forma de utiliza-las é como um efeito \"fade\", em que a cor fica mais potente, conforme o numero de filmes no genero cresce.\n",
        "Para isso, será importada a biblioteca \"seaborn\"."
      ]
    },
    {
      "cell_type": "code",
      "metadata": {
        "id": "HBgDHSw8fxHv",
        "colab_type": "code",
        "colab": {
          "base_uri": "https://localhost:8080/",
          "height": 483
        },
        "outputId": "7992bff7-475e-43a2-cf3d-5bfacada786e"
      },
      "source": [
        "import seaborn as sns\n",
        "sns.set_style('whitegrid') #Define linhas de auxilio no fundo para melhor visualização dos valores.\n",
        "\n",
        "plt.figure(figsize=(16,8))\n",
        "sns.barplot(\n",
        "    x=qtd_generos2.index,\n",
        "    y=qtd_generos2.values,\n",
        "    palette=sns.color_palette(\"BuGn_r\", n_colors=len(qtd_generos2) + 4)) \n",
        "plt.show()\n",
        "\n",
        "#A paleta de cores está disponível na documentação da biblioteca seaborn, e cada uma possui um nome para ser informado como parametro.\n",
        "#no caso, \"BuGn_r\".\n",
        "\n",
        "#Caso também não seja definido um tamanho \"n_colors=len(qtd_generos2) + 4)\", \n",
        "#ele utilizará o tamanho padrão, então cores poderão ser repetidas. o \"+4\" é para o ultimo elemento não ficar totalmente transparente."
      ],
      "execution_count": 419,
      "outputs": [
        {
          "output_type": "display_data",
          "data": {
            "image/png": "[encoded data removed]",
            "text/plain": [
              "<Figure size 1152x576 with 1 Axes>"
            ]
          },
          "metadata": {
            "tags": []
          }
        }
      ]
    },
    {
      "cell_type": "markdown",
      "metadata": {
        "id": "BLgkVEnCjZd2",
        "colab_type": "text"
      },
      "source": [
        "##Agora, como o gráfico está em um bom estágio para visualização, será feita a comparação das NOTAS dos filmes, e suas respectivas médias."
      ]
    },
    {
      "cell_type": "code",
      "metadata": {
        "id": "qMc_PrJHhx4a",
        "colab_type": "code",
        "colab": {
          "base_uri": "https://localhost:8080/",
          "height": 343
        },
        "outputId": "dffd3649-f405-4d24-87bb-4a73e152b00d"
      },
      "source": [
        "filme_com_media.head(10)"
      ],
      "execution_count": 420,
      "outputs": [
        {
          "output_type": "execute_result",
          "data": {
            "text/html": [
              "<div>\n",
              "<style scoped>\n",
              "    .dataframe tbody tr th:only-of-type {\n",
              "        vertical-align: middle;\n",
              "    }\n",
              "\n",
              "    .dataframe tbody tr th {\n",
              "        vertical-align: top;\n",
              "    }\n",
              "\n",
              "    .dataframe thead th {\n",
              "        text-align: right;\n",
              "    }\n",
              "</style>\n",
              "<table border=\"1\" class=\"dataframe\">\n",
              "  <thead>\n",
              "    <tr style=\"text-align: right;\">\n",
              "      <th></th>\n",
              "      <th>id_filme</th>\n",
              "      <th>titulo</th>\n",
              "      <th>genero</th>\n",
              "      <th>nota_media</th>\n",
              "    </tr>\n",
              "  </thead>\n",
              "  <tbody>\n",
              "    <tr>\n",
              "      <th>0</th>\n",
              "      <td>1</td>\n",
              "      <td>Toy Story (1995)</td>\n",
              "      <td>Adventure|Animation|Children|Comedy|Fantasy</td>\n",
              "      <td>3.920930</td>\n",
              "    </tr>\n",
              "    <tr>\n",
              "      <th>1</th>\n",
              "      <td>2</td>\n",
              "      <td>Jumanji (1995)</td>\n",
              "      <td>Adventure|Children|Fantasy</td>\n",
              "      <td>3.431818</td>\n",
              "    </tr>\n",
              "    <tr>\n",
              "      <th>2</th>\n",
              "      <td>3</td>\n",
              "      <td>Grumpier Old Men (1995)</td>\n",
              "      <td>Comedy|Romance</td>\n",
              "      <td>3.259615</td>\n",
              "    </tr>\n",
              "    <tr>\n",
              "      <th>3</th>\n",
              "      <td>4</td>\n",
              "      <td>Waiting to Exhale (1995)</td>\n",
              "      <td>Comedy|Drama|Romance</td>\n",
              "      <td>2.357143</td>\n",
              "    </tr>\n",
              "    <tr>\n",
              "      <th>4</th>\n",
              "      <td>5</td>\n",
              "      <td>Father of the Bride Part II (1995)</td>\n",
              "      <td>Comedy</td>\n",
              "      <td>3.071429</td>\n",
              "    </tr>\n",
              "    <tr>\n",
              "      <th>5</th>\n",
              "      <td>6</td>\n",
              "      <td>Heat (1995)</td>\n",
              "      <td>Action|Crime|Thriller</td>\n",
              "      <td>3.946078</td>\n",
              "    </tr>\n",
              "    <tr>\n",
              "      <th>6</th>\n",
              "      <td>7</td>\n",
              "      <td>Sabrina (1995)</td>\n",
              "      <td>Comedy|Romance</td>\n",
              "      <td>3.185185</td>\n",
              "    </tr>\n",
              "    <tr>\n",
              "      <th>7</th>\n",
              "      <td>8</td>\n",
              "      <td>Tom and Huck (1995)</td>\n",
              "      <td>Adventure|Children</td>\n",
              "      <td>2.875000</td>\n",
              "    </tr>\n",
              "    <tr>\n",
              "      <th>8</th>\n",
              "      <td>9</td>\n",
              "      <td>Sudden Death (1995)</td>\n",
              "      <td>Action</td>\n",
              "      <td>3.125000</td>\n",
              "    </tr>\n",
              "    <tr>\n",
              "      <th>9</th>\n",
              "      <td>10</td>\n",
              "      <td>GoldenEye (1995)</td>\n",
              "      <td>Action|Adventure|Thriller</td>\n",
              "      <td>3.496212</td>\n",
              "    </tr>\n",
              "  </tbody>\n",
              "</table>\n",
              "</div>"
            ],
            "text/plain": [
              "   id_filme  ... nota_media\n",
              "0         1  ...   3.920930\n",
              "1         2  ...   3.431818\n",
              "2         3  ...   3.259615\n",
              "3         4  ...   2.357143\n",
              "4         5  ...   3.071429\n",
              "5         6  ...   3.946078\n",
              "6         7  ...   3.185185\n",
              "7         8  ...   2.875000\n",
              "8         9  ...   3.125000\n",
              "9        10  ...   3.496212\n",
              "\n",
              "[10 rows x 4 columns]"
            ]
          },
          "metadata": {
            "tags": []
          },
          "execution_count": 420
        }
      ]
    },
    {
      "cell_type": "markdown",
      "metadata": {
        "id": "55Ug7F5qkASE",
        "colab_type": "text"
      },
      "source": [
        "As médias em si, dizem o valor médio da soma entre todas as notas. Mas não necessáriamente que dois filmes receberam as mesmas avaliações.\n",
        "Por exemplo, dois filmes que tem médias parecidas podem ter recebido mais notas 5 ou 1, enquanto outro recebeu só notas 3. Dessa forma, apesar das médias serem as mesmas, como elas forma compostas pode significar coisas diferentes"
      ]
    },
    {
      "cell_type": "code",
      "metadata": {
        "id": "VhLUM_uRlBl8",
        "colab_type": "code",
        "colab": {}
      },
      "source": [
        "#filmes.titulo.get(filmes.id_filme==1) test"
      ],
      "execution_count": 0,
      "outputs": []
    },
    {
      "cell_type": "code",
      "metadata": {
        "id": "nASbBPqSjsVV",
        "colab_type": "code",
        "colab": {
          "base_uri": "https://localhost:8080/",
          "height": 314
        },
        "outputId": "7f9b7b16-1923-4609-ec8f-71f35b8517d5"
      },
      "source": [
        "notas_do_filme_2 = avaliacoes.query(\"id_filme == 2\")[\"nota\"]\n",
        "print(notas_do_filme_2.mean())\n",
        "notas_do_filme_2.plot(kind='hist', title = 'Jumanji')"
      ],
      "execution_count": 422,
      "outputs": [
        {
          "output_type": "stream",
          "text": [
            "3.4318181818181817\n"
          ],
          "name": "stdout"
        },
        {
          "output_type": "execute_result",
          "data": {
            "text/plain": [
              "<matplotlib.axes._subplots.AxesSubplot at 0x7f6fd5874dd8>"
            ]
          },
          "metadata": {
            "tags": []
          },
          "execution_count": 422
        },
        {
          "output_type": "display_data",
          "data": {
            "image/png": "[encoded data removed]",
            "text/plain": [
              "<Figure size 432x288 with 1 Axes>"
            ]
          },
          "metadata": {
            "tags": []
          }
        }
      ]
    },
    {
      "cell_type": "code",
      "metadata": {
        "id": "lDdOhZaZmPN9",
        "colab_type": "code",
        "colab": {
          "base_uri": "https://localhost:8080/",
          "height": 314
        },
        "outputId": "5a0ac271-dc1c-46c7-d89b-7565ab1dc1a4"
      },
      "source": [
        "notas_do_filme_3 = avaliacoes.query(\"id_filme == 3\")[\"nota\"]\n",
        "print(notas_do_filme_3.mean())\n",
        "notas_do_filme_3.plot(kind='hist', title = 'Grumpier Old Man')"
      ],
      "execution_count": 423,
      "outputs": [
        {
          "output_type": "stream",
          "text": [
            "3.2596153846153846\n"
          ],
          "name": "stdout"
        },
        {
          "output_type": "execute_result",
          "data": {
            "text/plain": [
              "<matplotlib.axes._subplots.AxesSubplot at 0x7f6fd59e5048>"
            ]
          },
          "metadata": {
            "tags": []
          },
          "execution_count": 423
        },
        {
          "output_type": "display_data",
          "data": {
            "image/png": "[encoded data removed]",
            "text/plain": [
              "<Figure size 432x288 with 1 Axes>"
            ]
          },
          "metadata": {
            "tags": []
          }
        }
      ]
    },
    {
      "cell_type": "markdown",
      "metadata": {
        "id": "_HTfpNIKmlii",
        "colab_type": "text"
      },
      "source": [
        "Os dois filmes, Jumanju e Grumpier Old Man, possuem médias parecidas. 3.43 e 3.26 respectivamente. Porém através dos gráficos é possível identificar que a distribuição de nota dos dois é bastante diferente.\n",
        "\n",
        "Um exemplo citado na aula que retrata bem isso é o seguinte:"
      ]
    },
    {
      "cell_type": "code",
      "metadata": {
        "id": "-t8wAAtOkaIn",
        "colab_type": "code",
        "colab": {}
      },
      "source": [
        "# Cidada A\n",
        "populacao = 1000\n",
        "salario = 1100\n",
        " \n",
        "media = 1100\n",
        " \n",
        "# Cidade B\n",
        "populacao = 1000\n",
        "salario1 = 1000000\n",
        "salario999 = 100\n",
        " \n",
        "media = (salario1 * 1 + salario999 * 999) / 1000\n",
        "media = 1099.00"
      ],
      "execution_count": 0,
      "outputs": []
    },
    {
      "cell_type": "markdown",
      "metadata": {
        "id": "j_d5jyx8nEsw",
        "colab_type": "text"
      },
      "source": [
        "A média entre as duas cidades é praticamente a mesma, porém se olharmos apenas para a média, não conseguimos identificar o principal problema entre as duas.\n",
        "Na cidade A, todos recebem o mesmo salário, equanto na cidade B, uma unica pessoa recebe um salário tão desproporcional as outras, que sobe a média geral.\n",
        "\n",
        "Para aprofundar ainda mais, serão escolhidos dois filmes aleatórios em que as médias são parecidas, e que não possuem apenas um voto."
      ]
    },
    {
      "cell_type": "code",
      "metadata": {
        "id": "QPUupOyfnCBb",
        "colab_type": "code",
        "colab": {
          "base_uri": "https://localhost:8080/",
          "height": 1000
        },
        "outputId": "336aaa55-1e2d-40c3-cf40-08d0d1e96f60"
      },
      "source": [
        "filme_com_media.sort_values('nota_media', ascending=False)[2450:2500]"
      ],
      "execution_count": 431,
      "outputs": [
        {
          "output_type": "execute_result",
          "data": {
            "text/html": [
              "<div>\n",
              "<style scoped>\n",
              "    .dataframe tbody tr th:only-of-type {\n",
              "        vertical-align: middle;\n",
              "    }\n",
              "\n",
              "    .dataframe tbody tr th {\n",
              "        vertical-align: top;\n",
              "    }\n",
              "\n",
              "    .dataframe thead th {\n",
              "        text-align: right;\n",
              "    }\n",
              "</style>\n",
              "<table border=\"1\" class=\"dataframe\">\n",
              "  <thead>\n",
              "    <tr style=\"text-align: right;\">\n",
              "      <th></th>\n",
              "      <th>id_filme</th>\n",
              "      <th>titulo</th>\n",
              "      <th>genero</th>\n",
              "      <th>nota_media</th>\n",
              "    </tr>\n",
              "  </thead>\n",
              "  <tbody>\n",
              "    <tr>\n",
              "      <th>745</th>\n",
              "      <td>973</td>\n",
              "      <td>Meet John Doe (1941)</td>\n",
              "      <td>Comedy|Drama</td>\n",
              "      <td>3.900000</td>\n",
              "    </tr>\n",
              "    <tr>\n",
              "      <th>6632</th>\n",
              "      <td>56251</td>\n",
              "      <td>Futurama: Bender's Big Score (2007)</td>\n",
              "      <td>Animation|Comedy|Sci-Fi</td>\n",
              "      <td>3.900000</td>\n",
              "    </tr>\n",
              "    <tr>\n",
              "      <th>101</th>\n",
              "      <td>116</td>\n",
              "      <td>Anne Frank Remembered (1995)</td>\n",
              "      <td>Documentary</td>\n",
              "      <td>3.900000</td>\n",
              "    </tr>\n",
              "    <tr>\n",
              "      <th>5719</th>\n",
              "      <td>27846</td>\n",
              "      <td>Corporation, The (2003)</td>\n",
              "      <td>Documentary</td>\n",
              "      <td>3.900000</td>\n",
              "    </tr>\n",
              "    <tr>\n",
              "      <th>802</th>\n",
              "      <td>1050</td>\n",
              "      <td>Looking for Richard (1996)</td>\n",
              "      <td>Documentary|Drama</td>\n",
              "      <td>3.900000</td>\n",
              "    </tr>\n",
              "    <tr>\n",
              "      <th>3983</th>\n",
              "      <td>5617</td>\n",
              "      <td>Secretary (2002)</td>\n",
              "      <td>Comedy|Drama|Romance</td>\n",
              "      <td>3.900000</td>\n",
              "    </tr>\n",
              "    <tr>\n",
              "      <th>1323</th>\n",
              "      <td>1785</td>\n",
              "      <td>King of New York (1990)</td>\n",
              "      <td>Crime|Thriller</td>\n",
              "      <td>3.900000</td>\n",
              "    </tr>\n",
              "    <tr>\n",
              "      <th>7103</th>\n",
              "      <td>70599</td>\n",
              "      <td>Time Traveler's Wife, The (2009)</td>\n",
              "      <td>Drama|Romance|Sci-Fi</td>\n",
              "      <td>3.900000</td>\n",
              "    </tr>\n",
              "    <tr>\n",
              "      <th>5248</th>\n",
              "      <td>8607</td>\n",
              "      <td>Tokyo Godfathers (2003)</td>\n",
              "      <td>Adventure|Animation|Drama</td>\n",
              "      <td>3.900000</td>\n",
              "    </tr>\n",
              "    <tr>\n",
              "      <th>4677</th>\n",
              "      <td>6985</td>\n",
              "      <td>Passion of Joan of Arc, The (Passion de Jeanne...</td>\n",
              "      <td>Drama</td>\n",
              "      <td>3.900000</td>\n",
              "    </tr>\n",
              "    <tr>\n",
              "      <th>86</th>\n",
              "      <td>97</td>\n",
              "      <td>Hate (Haine, La) (1995)</td>\n",
              "      <td>Crime|Drama</td>\n",
              "      <td>3.900000</td>\n",
              "    </tr>\n",
              "    <tr>\n",
              "      <th>4100</th>\n",
              "      <td>5876</td>\n",
              "      <td>Quiet American, The (2002)</td>\n",
              "      <td>Drama|Thriller|War</td>\n",
              "      <td>3.900000</td>\n",
              "    </tr>\n",
              "    <tr>\n",
              "      <th>4298</th>\n",
              "      <td>6283</td>\n",
              "      <td>Cowboy Bebop: The Movie (Cowboy Bebop: Tengoku...</td>\n",
              "      <td>Action|Animation|Sci-Fi|Thriller</td>\n",
              "      <td>3.900000</td>\n",
              "    </tr>\n",
              "    <tr>\n",
              "      <th>8533</th>\n",
              "      <td>114935</td>\n",
              "      <td>Predestination (2014)</td>\n",
              "      <td>Action|Mystery|Sci-Fi|Thriller</td>\n",
              "      <td>3.900000</td>\n",
              "    </tr>\n",
              "    <tr>\n",
              "      <th>7946</th>\n",
              "      <td>95858</td>\n",
              "      <td>For the Birds (2000)</td>\n",
              "      <td>Animation|Children|Comedy</td>\n",
              "      <td>3.900000</td>\n",
              "    </tr>\n",
              "    <tr>\n",
              "      <th>1630</th>\n",
              "      <td>2176</td>\n",
              "      <td>Rope (1948)</td>\n",
              "      <td>Crime|Drama|Thriller</td>\n",
              "      <td>3.900000</td>\n",
              "    </tr>\n",
              "    <tr>\n",
              "      <th>3016</th>\n",
              "      <td>4034</td>\n",
              "      <td>Traffic (2000)</td>\n",
              "      <td>Crime|Drama|Thriller</td>\n",
              "      <td>3.900000</td>\n",
              "    </tr>\n",
              "    <tr>\n",
              "      <th>4702</th>\n",
              "      <td>7018</td>\n",
              "      <td>Presumed Innocent (1990)</td>\n",
              "      <td>Crime|Drama|Thriller</td>\n",
              "      <td>3.900000</td>\n",
              "    </tr>\n",
              "    <tr>\n",
              "      <th>2156</th>\n",
              "      <td>2871</td>\n",
              "      <td>Deliverance (1972)</td>\n",
              "      <td>Adventure|Drama|Thriller</td>\n",
              "      <td>3.900000</td>\n",
              "    </tr>\n",
              "    <tr>\n",
              "      <th>9710</th>\n",
              "      <td>187595</td>\n",
              "      <td>Solo: A Star Wars Story (2018)</td>\n",
              "      <td>Action|Adventure|Children|Sci-Fi</td>\n",
              "      <td>3.900000</td>\n",
              "    </tr>\n",
              "    <tr>\n",
              "      <th>1051</th>\n",
              "      <td>1366</td>\n",
              "      <td>Crucible, The (1996)</td>\n",
              "      <td>Drama</td>\n",
              "      <td>3.900000</td>\n",
              "    </tr>\n",
              "    <tr>\n",
              "      <th>6613</th>\n",
              "      <td>55820</td>\n",
              "      <td>No Country for Old Men (2007)</td>\n",
              "      <td>Crime|Drama</td>\n",
              "      <td>3.898438</td>\n",
              "    </tr>\n",
              "    <tr>\n",
              "      <th>939</th>\n",
              "      <td>1240</td>\n",
              "      <td>Terminator, The (1984)</td>\n",
              "      <td>Action|Sci-Fi|Thriller</td>\n",
              "      <td>3.896947</td>\n",
              "    </tr>\n",
              "    <tr>\n",
              "      <th>267</th>\n",
              "      <td>307</td>\n",
              "      <td>Three Colors: Blue (Trois couleurs: Bleu) (1993)</td>\n",
              "      <td>Drama</td>\n",
              "      <td>3.895833</td>\n",
              "    </tr>\n",
              "    <tr>\n",
              "      <th>599</th>\n",
              "      <td>745</td>\n",
              "      <td>Wallace &amp; Gromit: A Close Shave (1995)</td>\n",
              "      <td>Animation|Children|Comedy</td>\n",
              "      <td>3.895833</td>\n",
              "    </tr>\n",
              "    <tr>\n",
              "      <th>706</th>\n",
              "      <td>924</td>\n",
              "      <td>2001: A Space Odyssey (1968)</td>\n",
              "      <td>Adventure|Drama|Sci-Fi</td>\n",
              "      <td>3.894495</td>\n",
              "    </tr>\n",
              "    <tr>\n",
              "      <th>2078</th>\n",
              "      <td>2762</td>\n",
              "      <td>Sixth Sense, The (1999)</td>\n",
              "      <td>Drama|Horror|Mystery</td>\n",
              "      <td>3.893855</td>\n",
              "    </tr>\n",
              "    <tr>\n",
              "      <th>1608</th>\n",
              "      <td>2150</td>\n",
              "      <td>Gods Must Be Crazy, The (1980)</td>\n",
              "      <td>Adventure|Comedy</td>\n",
              "      <td>3.892857</td>\n",
              "    </tr>\n",
              "    <tr>\n",
              "      <th>5165</th>\n",
              "      <td>8366</td>\n",
              "      <td>Saved! (2004)</td>\n",
              "      <td>Comedy|Drama</td>\n",
              "      <td>3.892857</td>\n",
              "    </tr>\n",
              "    <tr>\n",
              "      <th>1432</th>\n",
              "      <td>1955</td>\n",
              "      <td>Kramer vs. Kramer (1979)</td>\n",
              "      <td>Drama</td>\n",
              "      <td>3.892857</td>\n",
              "    </tr>\n",
              "    <tr>\n",
              "      <th>2191</th>\n",
              "      <td>2912</td>\n",
              "      <td>Limey, The (1999)</td>\n",
              "      <td>Crime|Drama|Thriller</td>\n",
              "      <td>3.892857</td>\n",
              "    </tr>\n",
              "    <tr>\n",
              "      <th>5572</th>\n",
              "      <td>26776</td>\n",
              "      <td>Porco Rosso (Crimson Pig) (Kurenai no buta) (1...</td>\n",
              "      <td>Adventure|Animation|Comedy|Fantasy|Romance</td>\n",
              "      <td>3.892857</td>\n",
              "    </tr>\n",
              "    <tr>\n",
              "      <th>198</th>\n",
              "      <td>232</td>\n",
              "      <td>Eat Drink Man Woman (Yin shi nan nu) (1994)</td>\n",
              "      <td>Comedy|Drama|Romance</td>\n",
              "      <td>3.892857</td>\n",
              "    </tr>\n",
              "    <tr>\n",
              "      <th>9223</th>\n",
              "      <td>152081</td>\n",
              "      <td>Zootopia (2016)</td>\n",
              "      <td>Action|Adventure|Animation|Children|Comedy</td>\n",
              "      <td>3.890625</td>\n",
              "    </tr>\n",
              "    <tr>\n",
              "      <th>5885</th>\n",
              "      <td>33166</td>\n",
              "      <td>Crash (2004)</td>\n",
              "      <td>Crime|Drama</td>\n",
              "      <td>3.890000</td>\n",
              "    </tr>\n",
              "    <tr>\n",
              "      <th>3564</th>\n",
              "      <td>4880</td>\n",
              "      <td>Life as a House (2001)</td>\n",
              "      <td>Drama</td>\n",
              "      <td>3.888889</td>\n",
              "    </tr>\n",
              "    <tr>\n",
              "      <th>4258</th>\n",
              "      <td>6214</td>\n",
              "      <td>Irreversible (Irréversible) (2002)</td>\n",
              "      <td>Crime|Drama|Mystery|Thriller</td>\n",
              "      <td>3.888889</td>\n",
              "    </tr>\n",
              "    <tr>\n",
              "      <th>6884</th>\n",
              "      <td>63072</td>\n",
              "      <td>Road, The (2009)</td>\n",
              "      <td>Adventure|Drama|Thriller</td>\n",
              "      <td>3.888889</td>\n",
              "    </tr>\n",
              "    <tr>\n",
              "      <th>7078</th>\n",
              "      <td>69844</td>\n",
              "      <td>Harry Potter and the Half-Blood Prince (2009)</td>\n",
              "      <td>Adventure|Fantasy|Mystery|Romance|IMAX</td>\n",
              "      <td>3.887931</td>\n",
              "    </tr>\n",
              "    <tr>\n",
              "      <th>785</th>\n",
              "      <td>1028</td>\n",
              "      <td>Mary Poppins (1964)</td>\n",
              "      <td>Children|Comedy|Fantasy|Musical</td>\n",
              "      <td>3.887324</td>\n",
              "    </tr>\n",
              "    <tr>\n",
              "      <th>7413</th>\n",
              "      <td>80463</td>\n",
              "      <td>Social Network, The (2010)</td>\n",
              "      <td>Drama</td>\n",
              "      <td>3.885965</td>\n",
              "    </tr>\n",
              "    <tr>\n",
              "      <th>6151</th>\n",
              "      <td>44191</td>\n",
              "      <td>V for Vendetta (2006)</td>\n",
              "      <td>Action|Sci-Fi|Thriller|IMAX</td>\n",
              "      <td>3.885000</td>\n",
              "    </tr>\n",
              "    <tr>\n",
              "      <th>7688</th>\n",
              "      <td>89492</td>\n",
              "      <td>Moneyball (2011)</td>\n",
              "      <td>Drama</td>\n",
              "      <td>3.884615</td>\n",
              "    </tr>\n",
              "    <tr>\n",
              "      <th>6223</th>\n",
              "      <td>45728</td>\n",
              "      <td>Clerks II (2006)</td>\n",
              "      <td>Comedy</td>\n",
              "      <td>3.884615</td>\n",
              "    </tr>\n",
              "    <tr>\n",
              "      <th>912</th>\n",
              "      <td>1211</td>\n",
              "      <td>Wings of Desire (Himmel über Berlin, Der) (1987)</td>\n",
              "      <td>Drama|Fantasy|Romance</td>\n",
              "      <td>3.884615</td>\n",
              "    </tr>\n",
              "    <tr>\n",
              "      <th>6242</th>\n",
              "      <td>46578</td>\n",
              "      <td>Little Miss Sunshine (2006)</td>\n",
              "      <td>Adventure|Comedy|Drama</td>\n",
              "      <td>3.883117</td>\n",
              "    </tr>\n",
              "    <tr>\n",
              "      <th>1230</th>\n",
              "      <td>1635</td>\n",
              "      <td>Ice Storm, The (1997)</td>\n",
              "      <td>Drama</td>\n",
              "      <td>3.882353</td>\n",
              "    </tr>\n",
              "    <tr>\n",
              "      <th>225</th>\n",
              "      <td>261</td>\n",
              "      <td>Little Women (1994)</td>\n",
              "      <td>Drama</td>\n",
              "      <td>3.880952</td>\n",
              "    </tr>\n",
              "    <tr>\n",
              "      <th>701</th>\n",
              "      <td>919</td>\n",
              "      <td>Wizard of Oz, The (1939)</td>\n",
              "      <td>Adventure|Children|Fantasy|Musical</td>\n",
              "      <td>3.880435</td>\n",
              "    </tr>\n",
              "    <tr>\n",
              "      <th>968</th>\n",
              "      <td>1269</td>\n",
              "      <td>Arsenic and Old Lace (1944)</td>\n",
              "      <td>Comedy|Mystery|Thriller</td>\n",
              "      <td>3.879310</td>\n",
              "    </tr>\n",
              "  </tbody>\n",
              "</table>\n",
              "</div>"
            ],
            "text/plain": [
              "      id_filme  ... nota_media\n",
              "745        973  ...   3.900000\n",
              "6632     56251  ...   3.900000\n",
              "101        116  ...   3.900000\n",
              "5719     27846  ...   3.900000\n",
              "802       1050  ...   3.900000\n",
              "3983      5617  ...   3.900000\n",
              "1323      1785  ...   3.900000\n",
              "7103     70599  ...   3.900000\n",
              "5248      8607  ...   3.900000\n",
              "4677      6985  ...   3.900000\n",
              "86          97  ...   3.900000\n",
              "4100      5876  ...   3.900000\n",
              "4298      6283  ...   3.900000\n",
              "8533    114935  ...   3.900000\n",
              "7946     95858  ...   3.900000\n",
              "1630      2176  ...   3.900000\n",
              "3016      4034  ...   3.900000\n",
              "4702      7018  ...   3.900000\n",
              "2156      2871  ...   3.900000\n",
              "9710    187595  ...   3.900000\n",
              "1051      1366  ...   3.900000\n",
              "6613     55820  ...   3.898438\n",
              "939       1240  ...   3.896947\n",
              "267        307  ...   3.895833\n",
              "599        745  ...   3.895833\n",
              "706        924  ...   3.894495\n",
              "2078      2762  ...   3.893855\n",
              "1608      2150  ...   3.892857\n",
              "5165      8366  ...   3.892857\n",
              "1432      1955  ...   3.892857\n",
              "2191      2912  ...   3.892857\n",
              "5572     26776  ...   3.892857\n",
              "198        232  ...   3.892857\n",
              "9223    152081  ...   3.890625\n",
              "5885     33166  ...   3.890000\n",
              "3564      4880  ...   3.888889\n",
              "4258      6214  ...   3.888889\n",
              "6884     63072  ...   3.888889\n",
              "7078     69844  ...   3.887931\n",
              "785       1028  ...   3.887324\n",
              "7413     80463  ...   3.885965\n",
              "6151     44191  ...   3.885000\n",
              "7688     89492  ...   3.884615\n",
              "6223     45728  ...   3.884615\n",
              "912       1211  ...   3.884615\n",
              "6242     46578  ...   3.883117\n",
              "1230      1635  ...   3.882353\n",
              "225        261  ...   3.880952\n",
              "701        919  ...   3.880435\n",
              "968       1269  ...   3.879310\n",
              "\n",
              "[50 rows x 4 columns]"
            ]
          },
          "metadata": {
            "tags": []
          },
          "execution_count": 431
        }
      ]
    },
    {
      "cell_type": "markdown",
      "metadata": {
        "id": "EIRICkzcsB8R",
        "colab_type": "text"
      },
      "source": [
        "Para não ser necessário escrever todo o código quando quisermos visualizar um determinado filme, será criada uma função que receberá o id do filme como parâmetro, assim só precisamos nos preocupar com essa informação."
      ]
    },
    {
      "cell_type": "code",
      "metadata": {
        "id": "50LUlu6_n14B",
        "colab_type": "code",
        "colab": {}
      },
      "source": [
        "def plot_filme(n):\n",
        "  notas_do_filme = avaliacoes.query(f'id_filme == {n}')['nota']\n",
        "  notas_do_filme.plot(kind='hist')\n",
        "  return notas_do_filme.describe()"
      ],
      "execution_count": 0,
      "outputs": []
    },
    {
      "cell_type": "code",
      "metadata": {
        "id": "_hIm1-kXsxeO",
        "colab_type": "code",
        "colab": {
          "base_uri": "https://localhost:8080/",
          "height": 416
        },
        "outputId": "f709f48b-4c38-4ee7-ece6-2a7911273f31"
      },
      "source": [
        "#Mágico de OZ\n",
        "plot_filme(919)"
      ],
      "execution_count": 442,
      "outputs": [
        {
          "output_type": "execute_result",
          "data": {
            "text/plain": [
              "count    92.000000\n",
              "mean      3.880435\n",
              "std       1.025418\n",
              "min       1.000000\n",
              "25%       3.000000\n",
              "50%       4.000000\n",
              "75%       5.000000\n",
              "max       5.000000\n",
              "Name: nota, dtype: float64"
            ]
          },
          "metadata": {
            "tags": []
          },
          "execution_count": 442
        },
        {
          "output_type": "display_data",
          "data": {
            "image/png": "[encoded data removed]",
            "text/plain": [
              "<Figure size 432x288 with 1 Axes>"
            ]
          },
          "metadata": {
            "tags": []
          }
        }
      ]
    },
    {
      "cell_type": "code",
      "metadata": {
        "id": "SV0--9Gjs0Hn",
        "colab_type": "code",
        "colab": {
          "base_uri": "https://localhost:8080/",
          "height": 419
        },
        "outputId": "1b9236e2-6f3f-41dd-a05f-6c1b4d142e19"
      },
      "source": [
        "#Little Miss Sunshine\n",
        "plot_filme(46578)"
      ],
      "execution_count": 439,
      "outputs": [
        {
          "output_type": "execute_result",
          "data": {
            "text/plain": [
              "count    77.000000\n",
              "mean      3.883117\n",
              "std       0.842522\n",
              "min       1.000000\n",
              "25%       3.500000\n",
              "50%       4.000000\n",
              "75%       4.500000\n",
              "max       5.000000\n",
              "Name: nota, dtype: float64"
            ]
          },
          "metadata": {
            "tags": []
          },
          "execution_count": 439
        },
        {
          "output_type": "display_data",
          "data": {
            "image/png": "[encoded data removed]",
            "text/plain": [
              "<Figure size 432x288 with 1 Axes>"
            ]
          },
          "metadata": {
            "tags": []
          }
        }
      ]
    },
    {
      "cell_type": "markdown",
      "metadata": {
        "id": "qiilMYqst20p",
        "colab_type": "text"
      },
      "source": [
        "Como é possível perceber, apesar das médias serem praticamente iguais, a distribuição das notas está diferente.\n",
        "\n",
        "O importante para analisar este tipo de situação, são alguns fundamentos de estatística, como onde está o 25%, 50% e 75%. Sendo o 50% a mediana.\n",
        "\n",
        "Apesar da mediana dos dois serem a mesma, os outros dois valores são diferentes.\n",
        "\n",
        "Um gráfico muito utilizado para fazer esse tipo de medição é o BoxPlot.\n",
        "Ele será implementado na função para podermos visualizar melhor essas informações."
      ]
    },
    {
      "cell_type": "code",
      "metadata": {
        "id": "CoKtDVG-tR31",
        "colab_type": "code",
        "colab": {}
      },
      "source": [
        "def plot_filme(n):\n",
        "  notas_do_filme = avaliacoes.query(f'id_filme == {n}')['nota']\n",
        "  notas_do_filme.plot(kind = 'hist')\n",
        "  plt.show()\n",
        "  print('\\n')\n",
        "  notas_do_filme.plot.box()\n",
        "  plt.show()\n",
        "  return notas_do_filme.describe()"
      ],
      "execution_count": 0,
      "outputs": []
    },
    {
      "cell_type": "code",
      "metadata": {
        "id": "2dpMKEoQvFdZ",
        "colab_type": "code",
        "colab": {
          "base_uri": "https://localhost:8080/",
          "height": 698
        },
        "outputId": "475421fe-c2c6-4248-c89f-eb45d63187df"
      },
      "source": [
        "#Mágico de OZ\n",
        "plot_filme(919)"
      ],
      "execution_count": 444,
      "outputs": [
        {
          "output_type": "display_data",
          "data": {
            "image/png": "[encoded data removed]",
            "text/plain": [
              "<Figure size 432x288 with 1 Axes>"
            ]
          },
          "metadata": {
            "tags": []
          }
        },
        {
          "output_type": "stream",
          "text": [
            "\n",
            "\n"
          ],
          "name": "stdout"
        },
        {
          "output_type": "display_data",
          "data": {
            "image/png": "[encoded data removed]",
            "text/plain": [
              "<Figure size 432x288 with 1 Axes>"
            ]
          },
          "metadata": {
            "tags": []
          }
        },
        {
          "output_type": "execute_result",
          "data": {
            "text/plain": [
              "count    92.000000\n",
              "mean      3.880435\n",
              "std       1.025418\n",
              "min       1.000000\n",
              "25%       3.000000\n",
              "50%       4.000000\n",
              "75%       5.000000\n",
              "max       5.000000\n",
              "Name: nota, dtype: float64"
            ]
          },
          "metadata": {
            "tags": []
          },
          "execution_count": 444
        }
      ]
    },
    {
      "cell_type": "code",
      "metadata": {
        "id": "23bAiirXvIP2",
        "colab_type": "code",
        "colab": {
          "base_uri": "https://localhost:8080/",
          "height": 701
        },
        "outputId": "941f6492-d185-46fc-d48f-6bd47aa900f3"
      },
      "source": [
        "#Little Miss Sunshine\n",
        "plot_filme(46578)"
      ],
      "execution_count": 446,
      "outputs": [
        {
          "output_type": "display_data",
          "data": {
            "image/png": "[encoded data removed]",
            "text/plain": [
              "<Figure size 432x288 with 1 Axes>"
            ]
          },
          "metadata": {
            "tags": []
          }
        },
        {
          "output_type": "stream",
          "text": [
            "\n",
            "\n"
          ],
          "name": "stdout"
        },
        {
          "output_type": "display_data",
          "data": {
            "image/png": "[encoded data removed]",
            "text/plain": [
              "<Figure size 432x288 with 1 Axes>"
            ]
          },
          "metadata": {
            "tags": []
          }
        },
        {
          "output_type": "execute_result",
          "data": {
            "text/plain": [
              "count    77.000000\n",
              "mean      3.883117\n",
              "std       0.842522\n",
              "min       1.000000\n",
              "25%       3.500000\n",
              "50%       4.000000\n",
              "75%       4.500000\n",
              "max       5.000000\n",
              "Name: nota, dtype: float64"
            ]
          },
          "metadata": {
            "tags": []
          },
          "execution_count": 446
        }
      ]
    },
    {
      "cell_type": "markdown",
      "metadata": {
        "id": "R7EiHMLxvzVo",
        "colab_type": "text"
      },
      "source": [
        "O gráfico BoxPlot ilustra melhor as informações contidas no \".describe()\" A linha verde que o divide representa a mediana. a parte superior da caixa representa o 75%. A parte inferior da caixa representa o 25%, e as linhas além da caixa representam os limites, superiores e inferiores. Estes não necessariamente são iguais ao minimo e máximo.\n",
        "\n",
        "A pequena bola na parte de baixo do segundo filme representa um \"Outlier\", ou, um valor atípico, que foge do restante do padrão das avaliações, e pode não representar uma informação consistente.\n",
        "\n",
        "Para facilitar a comparação, podemos plotar os dois graficos em uma mesma imagem utilizando o seaborn:"
      ]
    },
    {
      "cell_type": "code",
      "metadata": {
        "id": "5zwB6F52wr5x",
        "colab_type": "code",
        "colab": {
          "base_uri": "https://localhost:8080/",
          "height": 297
        },
        "outputId": "355000a4-5ae2-4053-ba62-f2ead706678c"
      },
      "source": [
        "sns.boxplot(data = avaliacoes.query(\"id_filme in [2,3,919,46578]\"), x =\"id_filme\", y=\"nota\")"
      ],
      "execution_count": 449,
      "outputs": [
        {
          "output_type": "execute_result",
          "data": {
            "text/plain": [
              "<matplotlib.axes._subplots.AxesSubplot at 0x7f6fd3576b38>"
            ]
          },
          "metadata": {
            "tags": []
          },
          "execution_count": 449
        },
        {
          "output_type": "display_data",
          "data": {
            "image/png": "[encoded data removed]",
            "text/plain": [
              "<Figure size 432x288 with 1 Axes>"
            ]
          },
          "metadata": {
            "tags": []
          }
        }
      ]
    },
    {
      "cell_type": "markdown",
      "metadata": {
        "id": "A08sV-5sw-Xv",
        "colab_type": "text"
      },
      "source": [
        "Nessa amostra estão sendo comparados os 4 filmes que foram comparados individualmente antes, assim é possível verificar melhor qual a diferença nas avaliações de cada filme, independente da média deles."
      ]
    },
    {
      "cell_type": "markdown",
      "metadata": {
        "id": "6GZMPZjexQV1",
        "colab_type": "text"
      },
      "source": [
        "#Desafios Aula 02"
      ]
    },
    {
      "cell_type": "code",
      "metadata": {
        "id": "Uy_uEn3xvPTG",
        "colab_type": "code",
        "colab": {}
      },
      "source": [
        ""
      ],
      "execution_count": 0,
      "outputs": []
    }
  ]
}